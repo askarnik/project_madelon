{
 "cells": [
  {
   "cell_type": "markdown",
   "metadata": {},
   "source": [
    "## Import data & EDA"
   ]
  },
  {
   "cell_type": "code",
   "execution_count": 1,
   "metadata": {
    "collapsed": true
   },
   "outputs": [],
   "source": [
    "import pandas as pd\n",
    "import numpy as np\n",
    "import matplotlib.pyplot as plt\n",
    "\n",
    "np.random.seed(42)"
   ]
  },
  {
   "cell_type": "code",
   "execution_count": 2,
   "metadata": {
    "collapsed": true
   },
   "outputs": [],
   "source": [
    "def plot_null_values(df):\n",
    "    dict_null_count = {}\n",
    "\n",
    "    for col in df.columns:\n",
    "        null_count = df[col].isnull().sum()\n",
    "        if null_count > 0:\n",
    "            dict_null_count[col] = null_count\n",
    "\n",
    "    x = np.arange(len(dict_null_count))\n",
    "    y = dict_null_count.values()\n",
    "\n",
    "    plt.bar(x, y)\n",
    "    plt.xticks(x, dict_null_count.keys(), rotation='vertical')\n",
    "    plt.show()"
   ]
  },
  {
   "cell_type": "code",
   "execution_count": 3,
   "metadata": {
    "collapsed": true
   },
   "outputs": [],
   "source": [
    "df_train_data = pd.read_csv('../data/madelon_train.data', sep=' ', header=None)\n",
    "df_test_data = pd.read_csv('../data/madelon_test.data', sep=' ', header=None)\n",
    "df_valid_data = pd.read_csv('../data/madelon_valid.data', sep=' ', header=None)"
   ]
  },
  {
   "cell_type": "code",
   "execution_count": 4,
   "metadata": {},
   "outputs": [
    {
     "data": {
      "image/png": "[encoded data removed]",
      "text/plain": [
       "<matplotlib.figure.Figure at 0x7f103d20c668>"
      ]
     },
     "metadata": {},
     "output_type": "display_data"
    },
    {
     "data": {
      "image/png": "[encoded data removed]",
      "text/plain": [
       "<matplotlib.figure.Figure at 0x7f103d20c6a0>"
      ]
     },
     "metadata": {},
     "output_type": "display_data"
    },
    {
     "data": {
      "image/png": "[encoded data removed]",
      "text/plain": [
       "<matplotlib.figure.Figure at 0x7f103cd58940>"
      ]
     },
     "metadata": {},
     "output_type": "display_data"
    }
   ],
   "source": [
    "plot_null_values(df_train_data)\n",
    "plot_null_values(df_test_data)\n",
    "plot_null_values(df_valid_data)"
   ]
  },
  {
   "cell_type": "code",
   "execution_count": 5,
   "metadata": {},
   "outputs": [
    {
     "data": {
      "text/html": [
       "<div>\n",
       "<table border=\"1\" class=\"dataframe\">\n",
       "  <thead>\n",
       "    <tr style=\"text-align: right;\">\n",
       "      <th></th>\n",
       "      <th>0</th>\n",
       "      <th>1</th>\n",
       "      <th>2</th>\n",
       "      <th>3</th>\n",
       "      <th>4</th>\n",
       "      <th>5</th>\n",
       "      <th>6</th>\n",
       "      <th>7</th>\n",
       "      <th>8</th>\n",
       "      <th>9</th>\n",
       "      <th>...</th>\n",
       "      <th>491</th>\n",
       "      <th>492</th>\n",
       "      <th>493</th>\n",
       "      <th>494</th>\n",
       "      <th>495</th>\n",
       "      <th>496</th>\n",
       "      <th>497</th>\n",
       "      <th>498</th>\n",
       "      <th>499</th>\n",
       "      <th>500</th>\n",
       "    </tr>\n",
       "  </thead>\n",
       "  <tbody>\n",
       "    <tr>\n",
       "      <th>0</th>\n",
       "      <td>485</td>\n",
       "      <td>477</td>\n",
       "      <td>537</td>\n",
       "      <td>479</td>\n",
       "      <td>452</td>\n",
       "      <td>471</td>\n",
       "      <td>491</td>\n",
       "      <td>476</td>\n",
       "      <td>475</td>\n",
       "      <td>473</td>\n",
       "      <td>...</td>\n",
       "      <td>481</td>\n",
       "      <td>477</td>\n",
       "      <td>485</td>\n",
       "      <td>511</td>\n",
       "      <td>485</td>\n",
       "      <td>481</td>\n",
       "      <td>479</td>\n",
       "      <td>475</td>\n",
       "      <td>496</td>\n",
       "      <td>NaN</td>\n",
       "    </tr>\n",
       "    <tr>\n",
       "      <th>1</th>\n",
       "      <td>483</td>\n",
       "      <td>458</td>\n",
       "      <td>460</td>\n",
       "      <td>487</td>\n",
       "      <td>587</td>\n",
       "      <td>475</td>\n",
       "      <td>526</td>\n",
       "      <td>479</td>\n",
       "      <td>485</td>\n",
       "      <td>469</td>\n",
       "      <td>...</td>\n",
       "      <td>478</td>\n",
       "      <td>487</td>\n",
       "      <td>338</td>\n",
       "      <td>513</td>\n",
       "      <td>486</td>\n",
       "      <td>483</td>\n",
       "      <td>492</td>\n",
       "      <td>510</td>\n",
       "      <td>517</td>\n",
       "      <td>NaN</td>\n",
       "    </tr>\n",
       "    <tr>\n",
       "      <th>2</th>\n",
       "      <td>487</td>\n",
       "      <td>542</td>\n",
       "      <td>499</td>\n",
       "      <td>468</td>\n",
       "      <td>448</td>\n",
       "      <td>471</td>\n",
       "      <td>442</td>\n",
       "      <td>478</td>\n",
       "      <td>480</td>\n",
       "      <td>477</td>\n",
       "      <td>...</td>\n",
       "      <td>481</td>\n",
       "      <td>492</td>\n",
       "      <td>650</td>\n",
       "      <td>506</td>\n",
       "      <td>501</td>\n",
       "      <td>480</td>\n",
       "      <td>489</td>\n",
       "      <td>499</td>\n",
       "      <td>498</td>\n",
       "      <td>NaN</td>\n",
       "    </tr>\n",
       "    <tr>\n",
       "      <th>3</th>\n",
       "      <td>480</td>\n",
       "      <td>491</td>\n",
       "      <td>510</td>\n",
       "      <td>485</td>\n",
       "      <td>495</td>\n",
       "      <td>472</td>\n",
       "      <td>417</td>\n",
       "      <td>474</td>\n",
       "      <td>502</td>\n",
       "      <td>476</td>\n",
       "      <td>...</td>\n",
       "      <td>480</td>\n",
       "      <td>474</td>\n",
       "      <td>572</td>\n",
       "      <td>454</td>\n",
       "      <td>469</td>\n",
       "      <td>475</td>\n",
       "      <td>482</td>\n",
       "      <td>494</td>\n",
       "      <td>461</td>\n",
       "      <td>NaN</td>\n",
       "    </tr>\n",
       "    <tr>\n",
       "      <th>4</th>\n",
       "      <td>484</td>\n",
       "      <td>502</td>\n",
       "      <td>528</td>\n",
       "      <td>489</td>\n",
       "      <td>466</td>\n",
       "      <td>481</td>\n",
       "      <td>402</td>\n",
       "      <td>478</td>\n",
       "      <td>487</td>\n",
       "      <td>468</td>\n",
       "      <td>...</td>\n",
       "      <td>479</td>\n",
       "      <td>452</td>\n",
       "      <td>435</td>\n",
       "      <td>486</td>\n",
       "      <td>508</td>\n",
       "      <td>481</td>\n",
       "      <td>504</td>\n",
       "      <td>495</td>\n",
       "      <td>511</td>\n",
       "      <td>NaN</td>\n",
       "    </tr>\n",
       "  </tbody>\n",
       "</table>\n",
       "<p>5 rows × 501 columns</p>\n",
       "</div>"
      ],
      "text/plain": [
       "   0    1    2    3    4    5    6    7    8    9   ...   491  492  493  494  \\\n",
       "0  485  477  537  479  452  471  491  476  475  473 ...   481  477  485  511   \n",
       "1  483  458  460  487  587  475  526  479  485  469 ...   478  487  338  513   \n",
       "2  487  542  499  468  448  471  442  478  480  477 ...   481  492  650  506   \n",
       "3  480  491  510  485  495  472  417  474  502  476 ...   480  474  572  454   \n",
       "4  484  502  528  489  466  481  402  478  487  468 ...   479  452  435  486   \n",
       "\n",
       "   495  496  497  498  499  500  \n",
       "0  485  481  479  475  496  NaN  \n",
       "1  486  483  492  510  517  NaN  \n",
       "2  501  480  489  499  498  NaN  \n",
       "3  469  475  482  494  461  NaN  \n",
       "4  508  481  504  495  511  NaN  \n",
       "\n",
       "[5 rows x 501 columns]"
      ]
     },
     "execution_count": 5,
     "metadata": {},
     "output_type": "execute_result"
    }
   ],
   "source": [
    "df_train_data.head()"
   ]
  },
  {
   "cell_type": "code",
   "execution_count": 7,
   "metadata": {},
   "outputs": [
    {
     "data": {
      "text/html": [
       "<div>\n",
       "<table border=\"1\" class=\"dataframe\">\n",
       "  <thead>\n",
       "    <tr style=\"text-align: right;\">\n",
       "      <th></th>\n",
       "      <th>0</th>\n",
       "      <th>1</th>\n",
       "      <th>2</th>\n",
       "      <th>3</th>\n",
       "      <th>4</th>\n",
       "      <th>5</th>\n",
       "      <th>6</th>\n",
       "      <th>7</th>\n",
       "      <th>8</th>\n",
       "      <th>9</th>\n",
       "      <th>...</th>\n",
       "      <th>491</th>\n",
       "      <th>492</th>\n",
       "      <th>493</th>\n",
       "      <th>494</th>\n",
       "      <th>495</th>\n",
       "      <th>496</th>\n",
       "      <th>497</th>\n",
       "      <th>498</th>\n",
       "      <th>499</th>\n",
       "      <th>500</th>\n",
       "    </tr>\n",
       "  </thead>\n",
       "  <tbody>\n",
       "    <tr>\n",
       "      <th>0</th>\n",
       "      <td>483</td>\n",
       "      <td>460</td>\n",
       "      <td>559</td>\n",
       "      <td>477</td>\n",
       "      <td>462</td>\n",
       "      <td>491</td>\n",
       "      <td>499</td>\n",
       "      <td>475</td>\n",
       "      <td>495</td>\n",
       "      <td>479</td>\n",
       "      <td>...</td>\n",
       "      <td>480</td>\n",
       "      <td>546</td>\n",
       "      <td>630</td>\n",
       "      <td>434</td>\n",
       "      <td>497</td>\n",
       "      <td>479</td>\n",
       "      <td>503</td>\n",
       "      <td>465</td>\n",
       "      <td>494</td>\n",
       "      <td>NaN</td>\n",
       "    </tr>\n",
       "    <tr>\n",
       "      <th>1</th>\n",
       "      <td>484</td>\n",
       "      <td>509</td>\n",
       "      <td>538</td>\n",
       "      <td>473</td>\n",
       "      <td>548</td>\n",
       "      <td>497</td>\n",
       "      <td>551</td>\n",
       "      <td>477</td>\n",
       "      <td>498</td>\n",
       "      <td>471</td>\n",
       "      <td>...</td>\n",
       "      <td>482</td>\n",
       "      <td>493</td>\n",
       "      <td>442</td>\n",
       "      <td>440</td>\n",
       "      <td>587</td>\n",
       "      <td>475</td>\n",
       "      <td>483</td>\n",
       "      <td>509</td>\n",
       "      <td>455</td>\n",
       "      <td>NaN</td>\n",
       "    </tr>\n",
       "    <tr>\n",
       "      <th>2</th>\n",
       "      <td>476</td>\n",
       "      <td>529</td>\n",
       "      <td>558</td>\n",
       "      <td>477</td>\n",
       "      <td>505</td>\n",
       "      <td>486</td>\n",
       "      <td>545</td>\n",
       "      <td>477</td>\n",
       "      <td>473</td>\n",
       "      <td>480</td>\n",
       "      <td>...</td>\n",
       "      <td>482</td>\n",
       "      <td>465</td>\n",
       "      <td>389</td>\n",
       "      <td>460</td>\n",
       "      <td>459</td>\n",
       "      <td>484</td>\n",
       "      <td>476</td>\n",
       "      <td>564</td>\n",
       "      <td>521</td>\n",
       "      <td>NaN</td>\n",
       "    </tr>\n",
       "    <tr>\n",
       "      <th>3</th>\n",
       "      <td>487</td>\n",
       "      <td>475</td>\n",
       "      <td>480</td>\n",
       "      <td>494</td>\n",
       "      <td>477</td>\n",
       "      <td>472</td>\n",
       "      <td>512</td>\n",
       "      <td>477</td>\n",
       "      <td>486</td>\n",
       "      <td>480</td>\n",
       "      <td>...</td>\n",
       "      <td>476</td>\n",
       "      <td>536</td>\n",
       "      <td>622</td>\n",
       "      <td>523</td>\n",
       "      <td>445</td>\n",
       "      <td>481</td>\n",
       "      <td>490</td>\n",
       "      <td>481</td>\n",
       "      <td>548</td>\n",
       "      <td>NaN</td>\n",
       "    </tr>\n",
       "    <tr>\n",
       "      <th>4</th>\n",
       "      <td>486</td>\n",
       "      <td>490</td>\n",
       "      <td>480</td>\n",
       "      <td>471</td>\n",
       "      <td>520</td>\n",
       "      <td>481</td>\n",
       "      <td>437</td>\n",
       "      <td>476</td>\n",
       "      <td>484</td>\n",
       "      <td>482</td>\n",
       "      <td>...</td>\n",
       "      <td>473</td>\n",
       "      <td>474</td>\n",
       "      <td>491</td>\n",
       "      <td>516</td>\n",
       "      <td>515</td>\n",
       "      <td>475</td>\n",
       "      <td>497</td>\n",
       "      <td>453</td>\n",
       "      <td>497</td>\n",
       "      <td>NaN</td>\n",
       "    </tr>\n",
       "  </tbody>\n",
       "</table>\n",
       "<p>5 rows × 501 columns</p>\n",
       "</div>"
      ],
      "text/plain": [
       "   0    1    2    3    4    5    6    7    8    9   ...   491  492  493  494  \\\n",
       "0  483  460  559  477  462  491  499  475  495  479 ...   480  546  630  434   \n",
       "1  484  509  538  473  548  497  551  477  498  471 ...   482  493  442  440   \n",
       "2  476  529  558  477  505  486  545  477  473  480 ...   482  465  389  460   \n",
       "3  487  475  480  494  477  472  512  477  486  480 ...   476  536  622  523   \n",
       "4  486  490  480  471  520  481  437  476  484  482 ...   473  474  491  516   \n",
       "\n",
       "   495  496  497  498  499  500  \n",
       "0  497  479  503  465  494  NaN  \n",
       "1  587  475  483  509  455  NaN  \n",
       "2  459  484  476  564  521  NaN  \n",
       "3  445  481  490  481  548  NaN  \n",
       "4  515  475  497  453  497  NaN  \n",
       "\n",
       "[5 rows x 501 columns]"
      ]
     },
     "execution_count": 7,
     "metadata": {},
     "output_type": "execute_result"
    }
   ],
   "source": [
    "df_test_data.head()"
   ]
  },
  {
   "cell_type": "code",
   "execution_count": 8,
   "metadata": {},
   "outputs": [
    {
     "data": {
      "text/html": [
       "<div>\n",
       "<table border=\"1\" class=\"dataframe\">\n",
       "  <thead>\n",
       "    <tr style=\"text-align: right;\">\n",
       "      <th></th>\n",
       "      <th>0</th>\n",
       "      <th>1</th>\n",
       "      <th>2</th>\n",
       "      <th>3</th>\n",
       "      <th>4</th>\n",
       "      <th>5</th>\n",
       "      <th>6</th>\n",
       "      <th>7</th>\n",
       "      <th>8</th>\n",
       "      <th>9</th>\n",
       "      <th>...</th>\n",
       "      <th>491</th>\n",
       "      <th>492</th>\n",
       "      <th>493</th>\n",
       "      <th>494</th>\n",
       "      <th>495</th>\n",
       "      <th>496</th>\n",
       "      <th>497</th>\n",
       "      <th>498</th>\n",
       "      <th>499</th>\n",
       "      <th>500</th>\n",
       "    </tr>\n",
       "  </thead>\n",
       "  <tbody>\n",
       "    <tr>\n",
       "      <th>0</th>\n",
       "      <td>483</td>\n",
       "      <td>454</td>\n",
       "      <td>513</td>\n",
       "      <td>495</td>\n",
       "      <td>523</td>\n",
       "      <td>469</td>\n",
       "      <td>453</td>\n",
       "      <td>477</td>\n",
       "      <td>506</td>\n",
       "      <td>479</td>\n",
       "      <td>...</td>\n",
       "      <td>480</td>\n",
       "      <td>543</td>\n",
       "      <td>259</td>\n",
       "      <td>413</td>\n",
       "      <td>520</td>\n",
       "      <td>485</td>\n",
       "      <td>498</td>\n",
       "      <td>523</td>\n",
       "      <td>510</td>\n",
       "      <td>NaN</td>\n",
       "    </tr>\n",
       "    <tr>\n",
       "      <th>1</th>\n",
       "      <td>485</td>\n",
       "      <td>508</td>\n",
       "      <td>493</td>\n",
       "      <td>487</td>\n",
       "      <td>478</td>\n",
       "      <td>472</td>\n",
       "      <td>504</td>\n",
       "      <td>476</td>\n",
       "      <td>479</td>\n",
       "      <td>475</td>\n",
       "      <td>...</td>\n",
       "      <td>480</td>\n",
       "      <td>535</td>\n",
       "      <td>534</td>\n",
       "      <td>514</td>\n",
       "      <td>452</td>\n",
       "      <td>484</td>\n",
       "      <td>495</td>\n",
       "      <td>548</td>\n",
       "      <td>477</td>\n",
       "      <td>NaN</td>\n",
       "    </tr>\n",
       "    <tr>\n",
       "      <th>2</th>\n",
       "      <td>483</td>\n",
       "      <td>521</td>\n",
       "      <td>507</td>\n",
       "      <td>475</td>\n",
       "      <td>493</td>\n",
       "      <td>486</td>\n",
       "      <td>421</td>\n",
       "      <td>475</td>\n",
       "      <td>496</td>\n",
       "      <td>483</td>\n",
       "      <td>...</td>\n",
       "      <td>476</td>\n",
       "      <td>498</td>\n",
       "      <td>495</td>\n",
       "      <td>508</td>\n",
       "      <td>528</td>\n",
       "      <td>486</td>\n",
       "      <td>465</td>\n",
       "      <td>508</td>\n",
       "      <td>503</td>\n",
       "      <td>NaN</td>\n",
       "    </tr>\n",
       "    <tr>\n",
       "      <th>3</th>\n",
       "      <td>474</td>\n",
       "      <td>504</td>\n",
       "      <td>576</td>\n",
       "      <td>480</td>\n",
       "      <td>553</td>\n",
       "      <td>483</td>\n",
       "      <td>524</td>\n",
       "      <td>478</td>\n",
       "      <td>483</td>\n",
       "      <td>483</td>\n",
       "      <td>...</td>\n",
       "      <td>475</td>\n",
       "      <td>470</td>\n",
       "      <td>463</td>\n",
       "      <td>509</td>\n",
       "      <td>525</td>\n",
       "      <td>479</td>\n",
       "      <td>467</td>\n",
       "      <td>552</td>\n",
       "      <td>517</td>\n",
       "      <td>NaN</td>\n",
       "    </tr>\n",
       "    <tr>\n",
       "      <th>4</th>\n",
       "      <td>495</td>\n",
       "      <td>474</td>\n",
       "      <td>523</td>\n",
       "      <td>479</td>\n",
       "      <td>495</td>\n",
       "      <td>488</td>\n",
       "      <td>485</td>\n",
       "      <td>476</td>\n",
       "      <td>497</td>\n",
       "      <td>478</td>\n",
       "      <td>...</td>\n",
       "      <td>471</td>\n",
       "      <td>522</td>\n",
       "      <td>343</td>\n",
       "      <td>509</td>\n",
       "      <td>520</td>\n",
       "      <td>475</td>\n",
       "      <td>493</td>\n",
       "      <td>506</td>\n",
       "      <td>491</td>\n",
       "      <td>NaN</td>\n",
       "    </tr>\n",
       "  </tbody>\n",
       "</table>\n",
       "<p>5 rows × 501 columns</p>\n",
       "</div>"
      ],
      "text/plain": [
       "   0    1    2    3    4    5    6    7    8    9   ...   491  492  493  494  \\\n",
       "0  483  454  513  495  523  469  453  477  506  479 ...   480  543  259  413   \n",
       "1  485  508  493  487  478  472  504  476  479  475 ...   480  535  534  514   \n",
       "2  483  521  507  475  493  486  421  475  496  483 ...   476  498  495  508   \n",
       "3  474  504  576  480  553  483  524  478  483  483 ...   475  470  463  509   \n",
       "4  495  474  523  479  495  488  485  476  497  478 ...   471  522  343  509   \n",
       "\n",
       "   495  496  497  498  499  500  \n",
       "0  520  485  498  523  510  NaN  \n",
       "1  452  484  495  548  477  NaN  \n",
       "2  528  486  465  508  503  NaN  \n",
       "3  525  479  467  552  517  NaN  \n",
       "4  520  475  493  506  491  NaN  \n",
       "\n",
       "[5 rows x 501 columns]"
      ]
     },
     "execution_count": 8,
     "metadata": {},
     "output_type": "execute_result"
    }
   ],
   "source": [
    "df_valid_data.head()"
   ]
  },
  {
   "cell_type": "code",
   "execution_count": 9,
   "metadata": {},
   "outputs": [
    {
     "data": {
      "text/plain": [
       "((2000, 501), (1800, 501), (600, 501))"
      ]
     },
     "execution_count": 9,
     "metadata": {},
     "output_type": "execute_result"
    }
   ],
   "source": [
    "df_train_data.shape, df_test_data.shape, df_valid_data.shape"
   ]
  },
  {
   "cell_type": "code",
   "execution_count": 10,
   "metadata": {},
   "outputs": [
    {
     "data": {
      "text/plain": [
       "(array([ nan]), array([ nan]), array([ nan]))"
      ]
     },
     "execution_count": 10,
     "metadata": {},
     "output_type": "execute_result"
    }
   ],
   "source": [
    "df_train_data[500].unique(), df_test_data[500].unique(), df_valid_data[500].unique()"
   ]
  },
  {
   "cell_type": "code",
   "execution_count": 11,
   "metadata": {},
   "outputs": [
    {
     "data": {
      "text/plain": [
       "((2000, 500), (1800, 500), (600, 500))"
      ]
     },
     "execution_count": 11,
     "metadata": {},
     "output_type": "execute_result"
    }
   ],
   "source": [
    "df_train_data.drop(500, axis=1, inplace=True)\n",
    "df_test_data.drop(500, axis=1, inplace=True)\n",
    "df_valid_data.drop(500, axis=1, inplace=True)\n",
    "df_train_data.shape, df_test_data.shape, df_valid_data.shape"
   ]
  },
  {
   "cell_type": "code",
   "execution_count": 12,
   "metadata": {
    "scrolled": true
   },
   "outputs": [
    {
     "data": {
      "text/plain": [
       "(488083511, 439209553, 146395833)"
      ]
     },
     "execution_count": 12,
     "metadata": {},
     "output_type": "execute_result"
    }
   ],
   "source": [
    "df_train_sum = np.array(df_train_data.sum(axis=0)).sum()\n",
    "df_test_sum = np.array(df_test_data.sum(axis=0)).sum()\n",
    "df_valid_sum = np.array(df_valid_data.sum(axis=0)).sum()\n",
    "df_train_sum, df_test_sum, df_valid_sum"
   ]
  },
  {
   "cell_type": "code",
   "execution_count": 13,
   "metadata": {},
   "outputs": [
    {
     "data": {
      "text/plain": [
       "1073688897"
      ]
     },
     "execution_count": 13,
     "metadata": {},
     "output_type": "execute_result"
    }
   ],
   "source": [
    "df_sum = df_train_sum + df_test_sum + df_valid_sum\n",
    "df_sum"
   ]
  },
  {
   "cell_type": "code",
   "execution_count": 15,
   "metadata": {
    "collapsed": true
   },
   "outputs": [],
   "source": [
    "df_train_data.to_pickle('../pickled_data-UCI/madelon_train_data.p')\n",
    "df_test_data.to_pickle('../pickled_data-UCI/madelon_test_data.p')\n",
    "df_valid_data.to_pickle('../pickled_data-UCI/madelon_valid_data.p')"
   ]
  },
  {
   "cell_type": "markdown",
   "metadata": {},
   "source": [
    "## Import labels & EDA"
   ]
  },
  {
   "cell_type": "code",
   "execution_count": 16,
   "metadata": {
    "collapsed": true
   },
   "outputs": [],
   "source": [
    "df_train_labels = pd.read_csv('../data/madelon_train.labels', sep=' ', header=None)\n",
    "df_valid_labels = pd.read_csv('../data/madelon_valid.labels', sep=' ', header=None)"
   ]
  },
  {
   "cell_type": "code",
   "execution_count": 17,
   "metadata": {},
   "outputs": [
    {
     "data": {
      "image/png": "[encoded data removed]",
      "text/plain": [
       "<matplotlib.figure.Figure at 0x7f103cdc2908>"
      ]
     },
     "metadata": {},
     "output_type": "display_data"
    },
    {
     "data": {
      "image/png": "[encoded data removed]",
      "text/plain": [
       "<matplotlib.figure.Figure at 0x7f103cf5b978>"
      ]
     },
     "metadata": {},
     "output_type": "display_data"
    }
   ],
   "source": [
    "plot_null_values(df_train_labels)\n",
    "plot_null_values(df_valid_labels)"
   ]
  },
  {
   "cell_type": "code",
   "execution_count": 18,
   "metadata": {},
   "outputs": [
    {
     "data": {
      "text/html": [
       "<div>\n",
       "<table border=\"1\" class=\"dataframe\">\n",
       "  <thead>\n",
       "    <tr style=\"text-align: right;\">\n",
       "      <th></th>\n",
       "      <th>0</th>\n",
       "    </tr>\n",
       "  </thead>\n",
       "  <tbody>\n",
       "    <tr>\n",
       "      <th>0</th>\n",
       "      <td>-1</td>\n",
       "    </tr>\n",
       "    <tr>\n",
       "      <th>1</th>\n",
       "      <td>-1</td>\n",
       "    </tr>\n",
       "    <tr>\n",
       "      <th>2</th>\n",
       "      <td>-1</td>\n",
       "    </tr>\n",
       "    <tr>\n",
       "      <th>3</th>\n",
       "      <td>1</td>\n",
       "    </tr>\n",
       "    <tr>\n",
       "      <th>4</th>\n",
       "      <td>1</td>\n",
       "    </tr>\n",
       "  </tbody>\n",
       "</table>\n",
       "</div>"
      ],
      "text/plain": [
       "   0\n",
       "0 -1\n",
       "1 -1\n",
       "2 -1\n",
       "3  1\n",
       "4  1"
      ]
     },
     "execution_count": 18,
     "metadata": {},
     "output_type": "execute_result"
    }
   ],
   "source": [
    "df_train_labels.head()"
   ]
  },
  {
   "cell_type": "code",
   "execution_count": 19,
   "metadata": {},
   "outputs": [
    {
     "data": {
      "text/plain": [
       "(2000, 1)"
      ]
     },
     "execution_count": 19,
     "metadata": {},
     "output_type": "execute_result"
    }
   ],
   "source": [
    "df_train_labels.shape"
   ]
  },
  {
   "cell_type": "code",
   "execution_count": 20,
   "metadata": {},
   "outputs": [
    {
     "data": {
      "text/plain": [
       "array([-1,  1])"
      ]
     },
     "execution_count": 20,
     "metadata": {},
     "output_type": "execute_result"
    }
   ],
   "source": [
    "df_train_labels[0].unique()"
   ]
  },
  {
   "cell_type": "code",
   "execution_count": 21,
   "metadata": {},
   "outputs": [
    {
     "data": {
      "text/plain": [
       "0"
      ]
     },
     "execution_count": 21,
     "metadata": {},
     "output_type": "execute_result"
    }
   ],
   "source": [
    "df_train_labels[0].sum()"
   ]
  },
  {
   "cell_type": "code",
   "execution_count": 22,
   "metadata": {},
   "outputs": [
    {
     "data": {
      "text/html": [
       "<div>\n",
       "<table border=\"1\" class=\"dataframe\">\n",
       "  <thead>\n",
       "    <tr style=\"text-align: right;\">\n",
       "      <th></th>\n",
       "      <th>0</th>\n",
       "    </tr>\n",
       "  </thead>\n",
       "  <tbody>\n",
       "    <tr>\n",
       "      <th>0</th>\n",
       "      <td>-1</td>\n",
       "    </tr>\n",
       "    <tr>\n",
       "      <th>1</th>\n",
       "      <td>-1</td>\n",
       "    </tr>\n",
       "    <tr>\n",
       "      <th>2</th>\n",
       "      <td>-1</td>\n",
       "    </tr>\n",
       "    <tr>\n",
       "      <th>3</th>\n",
       "      <td>1</td>\n",
       "    </tr>\n",
       "    <tr>\n",
       "      <th>4</th>\n",
       "      <td>-1</td>\n",
       "    </tr>\n",
       "  </tbody>\n",
       "</table>\n",
       "</div>"
      ],
      "text/plain": [
       "   0\n",
       "0 -1\n",
       "1 -1\n",
       "2 -1\n",
       "3  1\n",
       "4 -1"
      ]
     },
     "execution_count": 22,
     "metadata": {},
     "output_type": "execute_result"
    }
   ],
   "source": [
    "df_valid_labels.head()"
   ]
  },
  {
   "cell_type": "code",
   "execution_count": 23,
   "metadata": {},
   "outputs": [
    {
     "data": {
      "text/plain": [
       "(600, 1)"
      ]
     },
     "execution_count": 23,
     "metadata": {},
     "output_type": "execute_result"
    }
   ],
   "source": [
    "df_valid_labels.shape"
   ]
  },
  {
   "cell_type": "code",
   "execution_count": 24,
   "metadata": {},
   "outputs": [
    {
     "data": {
      "text/plain": [
       "array([-1,  1])"
      ]
     },
     "execution_count": 24,
     "metadata": {},
     "output_type": "execute_result"
    }
   ],
   "source": [
    "df_valid_labels[0].unique()"
   ]
  },
  {
   "cell_type": "code",
   "execution_count": 25,
   "metadata": {},
   "outputs": [
    {
     "data": {
      "text/plain": [
       "0"
      ]
     },
     "execution_count": 25,
     "metadata": {},
     "output_type": "execute_result"
    }
   ],
   "source": [
    "df_valid_labels[0].sum()"
   ]
  },
  {
   "cell_type": "code",
   "execution_count": 26,
   "metadata": {
    "collapsed": true
   },
   "outputs": [],
   "source": [
    "df_train_labels.to_pickle('../pickled_data-UCI/madelon_train_labels.p')\n",
    "df_valid_labels.to_pickle('../pickled_data-UCI/madelon_valid_labels.p')"
   ]
  },
  {
   "cell_type": "markdown",
   "metadata": {},
   "source": [
    "## Select training data"
   ]
  },
  {
   "cell_type": "code",
   "execution_count": 27,
   "metadata": {
    "collapsed": true
   },
   "outputs": [],
   "source": [
    "df_sample_data = df_train_data.sample(1000)"
   ]
  },
  {
   "cell_type": "code",
   "execution_count": 28,
   "metadata": {},
   "outputs": [
    {
     "data": {
      "text/plain": [
       "(1000, 500)"
      ]
     },
     "execution_count": 28,
     "metadata": {},
     "output_type": "execute_result"
    }
   ],
   "source": [
    "df_sample_data.shape"
   ]
  },
  {
   "cell_type": "code",
   "execution_count": 29,
   "metadata": {},
   "outputs": [
    {
     "data": {
      "text/html": [
       "<div>\n",
       "<table border=\"1\" class=\"dataframe\">\n",
       "  <thead>\n",
       "    <tr style=\"text-align: right;\">\n",
       "      <th></th>\n",
       "      <th>0</th>\n",
       "      <th>1</th>\n",
       "      <th>2</th>\n",
       "      <th>3</th>\n",
       "      <th>4</th>\n",
       "      <th>5</th>\n",
       "      <th>6</th>\n",
       "      <th>7</th>\n",
       "      <th>8</th>\n",
       "      <th>9</th>\n",
       "      <th>...</th>\n",
       "      <th>490</th>\n",
       "      <th>491</th>\n",
       "      <th>492</th>\n",
       "      <th>493</th>\n",
       "      <th>494</th>\n",
       "      <th>495</th>\n",
       "      <th>496</th>\n",
       "      <th>497</th>\n",
       "      <th>498</th>\n",
       "      <th>499</th>\n",
       "    </tr>\n",
       "  </thead>\n",
       "  <tbody>\n",
       "    <tr>\n",
       "      <th>1860</th>\n",
       "      <td>489</td>\n",
       "      <td>468</td>\n",
       "      <td>523</td>\n",
       "      <td>477</td>\n",
       "      <td>433</td>\n",
       "      <td>481</td>\n",
       "      <td>500</td>\n",
       "      <td>476</td>\n",
       "      <td>474</td>\n",
       "      <td>478</td>\n",
       "      <td>...</td>\n",
       "      <td>504</td>\n",
       "      <td>478</td>\n",
       "      <td>488</td>\n",
       "      <td>426</td>\n",
       "      <td>462</td>\n",
       "      <td>545</td>\n",
       "      <td>476</td>\n",
       "      <td>476</td>\n",
       "      <td>505</td>\n",
       "      <td>502</td>\n",
       "    </tr>\n",
       "    <tr>\n",
       "      <th>353</th>\n",
       "      <td>480</td>\n",
       "      <td>463</td>\n",
       "      <td>553</td>\n",
       "      <td>479</td>\n",
       "      <td>516</td>\n",
       "      <td>485</td>\n",
       "      <td>494</td>\n",
       "      <td>474</td>\n",
       "      <td>493</td>\n",
       "      <td>485</td>\n",
       "      <td>...</td>\n",
       "      <td>451</td>\n",
       "      <td>477</td>\n",
       "      <td>427</td>\n",
       "      <td>435</td>\n",
       "      <td>510</td>\n",
       "      <td>554</td>\n",
       "      <td>478</td>\n",
       "      <td>483</td>\n",
       "      <td>505</td>\n",
       "      <td>502</td>\n",
       "    </tr>\n",
       "    <tr>\n",
       "      <th>1333</th>\n",
       "      <td>483</td>\n",
       "      <td>443</td>\n",
       "      <td>484</td>\n",
       "      <td>487</td>\n",
       "      <td>539</td>\n",
       "      <td>480</td>\n",
       "      <td>451</td>\n",
       "      <td>475</td>\n",
       "      <td>505</td>\n",
       "      <td>470</td>\n",
       "      <td>...</td>\n",
       "      <td>459</td>\n",
       "      <td>476</td>\n",
       "      <td>464</td>\n",
       "      <td>594</td>\n",
       "      <td>519</td>\n",
       "      <td>501</td>\n",
       "      <td>471</td>\n",
       "      <td>506</td>\n",
       "      <td>537</td>\n",
       "      <td>484</td>\n",
       "    </tr>\n",
       "    <tr>\n",
       "      <th>905</th>\n",
       "      <td>482</td>\n",
       "      <td>445</td>\n",
       "      <td>509</td>\n",
       "      <td>484</td>\n",
       "      <td>498</td>\n",
       "      <td>485</td>\n",
       "      <td>507</td>\n",
       "      <td>474</td>\n",
       "      <td>489</td>\n",
       "      <td>481</td>\n",
       "      <td>...</td>\n",
       "      <td>483</td>\n",
       "      <td>478</td>\n",
       "      <td>453</td>\n",
       "      <td>617</td>\n",
       "      <td>534</td>\n",
       "      <td>506</td>\n",
       "      <td>486</td>\n",
       "      <td>474</td>\n",
       "      <td>458</td>\n",
       "      <td>502</td>\n",
       "    </tr>\n",
       "    <tr>\n",
       "      <th>1289</th>\n",
       "      <td>491</td>\n",
       "      <td>498</td>\n",
       "      <td>542</td>\n",
       "      <td>475</td>\n",
       "      <td>516</td>\n",
       "      <td>477</td>\n",
       "      <td>435</td>\n",
       "      <td>476</td>\n",
       "      <td>471</td>\n",
       "      <td>479</td>\n",
       "      <td>...</td>\n",
       "      <td>500</td>\n",
       "      <td>474</td>\n",
       "      <td>467</td>\n",
       "      <td>643</td>\n",
       "      <td>527</td>\n",
       "      <td>545</td>\n",
       "      <td>486</td>\n",
       "      <td>484</td>\n",
       "      <td>519</td>\n",
       "      <td>479</td>\n",
       "    </tr>\n",
       "  </tbody>\n",
       "</table>\n",
       "<p>5 rows × 500 columns</p>\n",
       "</div>"
      ],
      "text/plain": [
       "      0    1    2    3    4    5    6    7    8    9   ...   490  491  492  \\\n",
       "1860  489  468  523  477  433  481  500  476  474  478 ...   504  478  488   \n",
       "353   480  463  553  479  516  485  494  474  493  485 ...   451  477  427   \n",
       "1333  483  443  484  487  539  480  451  475  505  470 ...   459  476  464   \n",
       "905   482  445  509  484  498  485  507  474  489  481 ...   483  478  453   \n",
       "1289  491  498  542  475  516  477  435  476  471  479 ...   500  474  467   \n",
       "\n",
       "      493  494  495  496  497  498  499  \n",
       "1860  426  462  545  476  476  505  502  \n",
       "353   435  510  554  478  483  505  502  \n",
       "1333  594  519  501  471  506  537  484  \n",
       "905   617  534  506  486  474  458  502  \n",
       "1289  643  527  545  486  484  519  479  \n",
       "\n",
       "[5 rows x 500 columns]"
      ]
     },
     "execution_count": 29,
     "metadata": {},
     "output_type": "execute_result"
    }
   ],
   "source": [
    "df_sample_data.head()"
   ]
  },
  {
   "cell_type": "code",
   "execution_count": 30,
   "metadata": {
    "collapsed": true
   },
   "outputs": [],
   "source": [
    "df_sample_data.to_pickle('../pickled_data-UCI/sample_1/df_sample_data.p')"
   ]
  },
  {
   "cell_type": "code",
   "execution_count": 31,
   "metadata": {},
   "outputs": [
    {
     "data": {
      "text/plain": [
       "array([1860,  353, 1333,  905, 1289, 1273,  938, 1731,   65, 1323,   56,\n",
       "       1292, 1118,  584,  374,  275,  746,  128, 1646, 1852,  674, 1664,\n",
       "       1981, 1083, 1922,   99, 1179,  964,  792,   29,  628,  944,  572,\n",
       "        907, 1080,  450, 1609, 1290, 1078,  254,  124, 1927,  251,  585,\n",
       "       1568,  824,  507,  889,   70, 1608, 1532,  247, 1450,  212,  909,\n",
       "       1741, 1244, 1696, 1182,  361, 1473,  678, 1621, 1089, 1987, 1847,\n",
       "        987, 1512,  111, 1487, 1453,  383, 1395, 1054,  755,  324, 1623,\n",
       "        787,  368, 1819,   69,  857, 1483, 1555, 1691, 1474, 1798,  478,\n",
       "        281, 1647, 1556, 1729,  210,  297, 1884, 1833,  651, 1233, 1502,\n",
       "       1931,  916,  993,  429, 1370,  239,  879,  620,  256,  611,  544,\n",
       "        771, 1419, 1041, 1789,  759,  382, 1103,  973,  352, 1605, 1825,\n",
       "       1036, 1107,  494,  393, 1546,  464,  886, 1193,  366, 1893, 1873,\n",
       "        744,  529,  802, 1223, 1978, 1905, 1699, 1544, 1313,  306, 1666,\n",
       "        862, 1566,  530,  654, 1259,  233,  120, 1697,  949,  617, 1178,\n",
       "        307,  135,  554, 1673,  583, 1640,  670,  834,  109, 1164, 1959,\n",
       "       1464, 1728, 1242,  211, 1767, 1120,  679, 1950, 1838,  411, 1324,\n",
       "        782, 1345,  874, 1652, 1278,  785, 1818, 1198,  807,  712, 1990,\n",
       "       1659, 1190, 1225,  602,  270, 1384,  231,   49,  462, 1105,  855,\n",
       "        693, 1551, 1872,  526,  173,  720,  414,  237, 1472, 1335, 1063,\n",
       "         23, 1766,   63,  289,  188,  701, 1814, 1137,  354,  416, 1245,\n",
       "        930,  196,  579, 1134, 1813, 1934,  433,  100, 1654,  394, 1938,\n",
       "        220, 1675, 1497, 1784,  344, 1027,  888, 1350,  552,  743, 1541,\n",
       "        538,  906, 1394,  115,  829, 1937,  808, 1310, 1004,  305, 1100,\n",
       "        479, 1423, 1075,  570,  618, 1897, 1265,   78, 1911,   32, 1537,\n",
       "       1033, 1562,  351,  163,  203, 1053, 1364, 1966,  495, 1624, 1965,\n",
       "       1962,  610,  432, 1491,  218, 1930, 1465,  630, 1381, 1301,   59,\n",
       "        298, 1710,   73,  162, 1274, 1593, 1433, 1612,  591,  316,   45,\n",
       "       1719, 1831,  427,  581,   76, 1916, 1414,  780, 1919, 1173, 1319,\n",
       "        937,   30, 1091, 1615, 1229,  974, 1084,  514, 1550, 1567, 1810,\n",
       "       1573,   44, 1686,  168,  303,  990,  555, 1924,  607, 1618,  757,\n",
       "        438,  582, 1518,  527,  342, 1736,  367,  185, 1116, 1754, 1425,\n",
       "        300, 1903,  832,  543, 1600,  350, 1932, 1510,  978,  175,  482,\n",
       "       1412, 1610,  123,  599, 1794, 1745, 1378, 1185,  485,  331,  788,\n",
       "        194,  637,  471, 1713,  322, 1196,  266, 1543, 1803,   67, 1737,\n",
       "       1592, 1563,  480, 1756, 1912, 1440, 1460,  887,  422, 1674, 1449,\n",
       "        764,  519, 1431,  613, 1530, 1782, 1658,  453,  730,  534,  965,\n",
       "       1284, 1739,  261,  535,  968,  240,  819,  692,  420, 1085, 1998,\n",
       "        365, 1022, 1240,  588,  736, 1761,  941,   71, 1407,  259,   51,\n",
       "        198, 1788,  650,  332, 1359,  593, 1391, 1800, 1314, 1111, 1006,\n",
       "       1326,  426, 1558, 1293,  590, 1957, 1976, 1132,  985,  398, 1511,\n",
       "        436,  192, 1435,  614, 1493,  576,  986, 1432,  706, 1258,  141,\n",
       "       1357,    2, 1221, 1869, 1622,  339, 1769, 1536,  483,  265,  376,\n",
       "        741, 1013,  439,  271,  184,  939,  244,  931,  445,  596,  817,\n",
       "       1272, 1676,  486,  680,  415,  273, 1471, 1829, 1454,  250,  413,\n",
       "       1385, 1307,  715,  310,  926,  381, 1565,  425, 1874,  532,  752,\n",
       "        765, 1356,  408, 1614,  694, 1738,  548,  936, 1389, 1607, 1939,\n",
       "       1481,  182, 1940, 1160,  170,  292,  561, 1456, 1876, 1651,  849,\n",
       "        272, 1549, 1034, 1743,  371, 1669,  721,  733,  777,  518,  334,\n",
       "        845, 1251, 1052, 1923,   15,  707,  900, 1979, 1572,  903,  465,\n",
       "       1977,  199, 1206, 1055, 1131, 1379,  998,  727, 1771, 1909, 1821,\n",
       "        567,   43,  274, 1096,  101, 1231, 1721, 1832,  107, 1617,  497,\n",
       "       1980,  881,  756,  619, 1106, 1935,  809, 1037,   72, 1283, 1271,\n",
       "       1334, 1458,  481, 1068,  506, 1237, 1861, 1989, 1476, 1866, 1455,\n",
       "        311,  962,  405, 1330, 1649,  309,  226, 1857,  710, 1943, 1383,\n",
       "       1785,  148, 1554, 1956,  925,  942,  836,  575,  557, 1235, 1360,\n",
       "       1347, 1161, 1442,  286, 1604, 1057,  598,  932, 1461, 1637, 1587,\n",
       "       1040, 1230,  806,  904, 1679, 1204,  767,  609, 1992, 1564, 1422,\n",
       "       1010,  493, 1320,  277, 1846,  358, 1110,  236,  551, 1867, 1812,\n",
       "        208, 1386, 1560,   58,  631, 1961, 1859, 1816,  363,  505, 1165,\n",
       "       1121, 1629, 1216, 1151, 1124, 1594,  118, 1249, 1993,  522,  513,\n",
       "         81,  915, 1018,  380, 1029, 1688,   84, 1677,  329,    6,  745,\n",
       "       1553,  914,  873,  451,  490, 1480,  287,  948, 1985, 1368, 1146,\n",
       "        705, 1726, 1701, 1628, 1599, 1538, 1405, 1650,  327,  442,  774,\n",
       "       1087, 1220, 1635,  177, 1322,  704,   86, 1883, 1947,  457, 1828,\n",
       "         54, 1501,  643,  677,  221,  113,  982, 1228,  999,  174,  781,\n",
       "        589, 1559,   18,  423, 1343,  285, 1583,  428, 1509, 1318,  669,\n",
       "         31,  940,  722,  994,  214,  813,  326,  560, 1112,  700, 1578,\n",
       "       1189,  341,  629,  147, 1309,  360,   83,   48,  468,  155,  772,\n",
       "       1239, 1200, 1402, 1202, 1630,  500, 1764,  179, 1047, 1755,  950,\n",
       "       1316, 1619,  528,  346, 1387, 1960, 1050, 1972, 1441,  601, 1281,\n",
       "        243, 1336, 1067, 1475,  312,  435, 1898, 1328,  308,  430,  660,\n",
       "        370,  566,  979,  181, 1362,  621,  818, 1192,  952, 1421, 1840,\n",
       "        922, 1073,  296,  966,  461, 1302, 1176,  377,  798, 1102,  105,\n",
       "        126, 1995,  838,  355, 1616,  682,  812, 1680,  209, 1492,  140,\n",
       "       1974, 1339, 1797, 1574, 1181, 1393, 1815,  711, 1793,  892,  859,\n",
       "         10, 1694, 1427,  282,  810, 1341,  291,  754,  626,  943,  861,\n",
       "        129, 1175,  323, 1090,  843,  963, 1864,  865,  921,  695,  215,\n",
       "       1780, 1261,  158, 1058,  988,  841,  634,  516, 1428, 1747,  597,\n",
       "        195, 1783,  869,  410,   96, 1000, 1505,  156,  419, 1802,  477,\n",
       "       1855,  668, 1417, 1871, 1299,  447,  553,  178,  390,  578, 1477,\n",
       "       1706, 1287, 1644, 1023,  820, 1824,  984, 1338,  664,  142, 1516,\n",
       "       1429,  864,  421,  636, 1406,  799, 1403,  615,  294,  923, 1268,\n",
       "       1902,   88,   41, 1801, 1933,  131, 1001, 1157, 1094, 1854, 1344,\n",
       "       1498,  164,  724,  290, 1208, 1588, 1896, 1641, 1361,  778,  839,\n",
       "        348, 1944,  571,  917,  976, 1913, 1468, 1591, 1317, 1844,  136,\n",
       "        458,  375, 1342,  333, 1159, 1760, 1457,  816, 1114, 1005, 1856,\n",
       "       1954, 1850,  910, 1929, 1125,  328, 1247,  318, 1689, 1358, 1732,\n",
       "        167,   12, 1926,  171,  649, 1061,  260, 1366, 1548,  901,  672,\n",
       "        258,  844,  867, 1799,  138,  893, 1837,  549,  319, 1526, 1805,\n",
       "       1177,  558,  139, 1734,  531,  224,  723,  786, 1717, 1007,  409,\n",
       "        325, 1765,  299, 1262, 1945,   25, 1858,  714, 1009,  193])"
      ]
     },
     "execution_count": 31,
     "metadata": {},
     "output_type": "execute_result"
    }
   ],
   "source": [
    "df_sample_data.index.values"
   ]
  },
  {
   "cell_type": "code",
   "execution_count": 32,
   "metadata": {
    "collapsed": true
   },
   "outputs": [],
   "source": [
    "df_sample_labels = df_train_labels.iloc[df_sample_data.index.values]"
   ]
  },
  {
   "cell_type": "code",
   "execution_count": 33,
   "metadata": {},
   "outputs": [
    {
     "data": {
      "text/plain": [
       "(1000, 1)"
      ]
     },
     "execution_count": 33,
     "metadata": {},
     "output_type": "execute_result"
    }
   ],
   "source": [
    "df_sample_labels.shape"
   ]
  },
  {
   "cell_type": "code",
   "execution_count": 34,
   "metadata": {
    "collapsed": true
   },
   "outputs": [],
   "source": [
    "df_sample_labels.to_pickle('../pickled_data-UCI/sample_1/df_sample_labels.p')"
   ]
  }
 ],
 "metadata": {
  "kernelspec": {
   "display_name": "Python 3",
   "language": "python",
   "name": "python3"
  },
  "language_info": {
   "codemirror_mode": {
    "name": "ipython",
    "version": 3
   },
   "file_extension": ".py",
   "mimetype": "text/x-python",
   "name": "python",
   "nbconvert_exporter": "python",
   "pygments_lexer": "ipython3",
   "version": "3.6.2"
  }
 },
 "nbformat": 4,
 "nbformat_minor": 2
}
