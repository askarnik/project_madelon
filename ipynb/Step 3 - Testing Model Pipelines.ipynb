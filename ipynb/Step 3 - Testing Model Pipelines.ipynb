{
 "cells": [
  {
   "cell_type": "code",
   "execution_count": 1,
   "metadata": {
    "collapsed": true
   },
   "outputs": [],
   "source": [
    "import pandas as pd\n",
    "import numpy as np\n",
    "import matplotlib.pyplot as plt\n",
    "from sklearn.pipeline import Pipeline\n",
    "from sklearn.preprocessing import StandardScaler, MinMaxScaler, PolynomialFeatures\n",
    "from sklearn.feature_selection import SelectFromModel\n",
    "from sklearn.decomposition import PCA\n",
    "from sklearn.linear_model import LogisticRegression\n",
    "from sklearn.model_selection import cross_val_score, GridSearchCV\n",
    "from sklearn.metrics import roc_auc_score, make_scorer\n",
    "\n",
    "from sklearn.tree import DecisionTreeClassifier\n",
    "from sklearn.neighbors import KNeighborsClassifier\n",
    "from sklearn.svm import SVC\n",
    "\n",
    "from sklearn.metrics import confusion_matrix, log_loss\n",
    "import scipy.stats as st\n",
    "\n",
    "np.random.seed(42)"
   ]
  },
  {
   "cell_type": "code",
   "execution_count": 2,
   "metadata": {
    "collapsed": true
   },
   "outputs": [],
   "source": [
    "def get_cm(y_test, y_pred):\n",
    "    cm = confusion_matrix(y_test, y_pred)\n",
    "    cm = cm / cm.astype(float).sum(axis=1)\n",
    "    np.round_(cm, decimals=4, out=cm)\n",
    "    \n",
    "    return cm"
   ]
  },
  {
   "cell_type": "code",
   "execution_count": 3,
   "metadata": {
    "collapsed": true
   },
   "outputs": [],
   "source": [
    "def deskew_df(df):\n",
    "    box_cox_df = pd.DataFrame()\n",
    "    for col in df.columns:\n",
    "        box_cox_col = st.boxcox(df[col])[0]\n",
    "        box_cox_df[col] = pd.Series(box_cox_col)\n",
    "        \n",
    "    return box_cox_df"
   ]
  },
  {
   "cell_type": "code",
   "execution_count": 4,
   "metadata": {
    "collapsed": true
   },
   "outputs": [],
   "source": [
    "def test_model(my_model, X_train, y_train, X_test, y_test, my_rand_state=42, pca_flag=False, gs_params=None):\n",
    "    if pca_flag:\n",
    "        pipe = Pipeline([('scaler', StandardScaler()),\n",
    "                         ('pca', PCA(n_components=5, random_state=my_rand_state)),\n",
    "                         ('clf', my_model)\n",
    "                        ])\n",
    "    else:\n",
    "        pipe = Pipeline([('scaler', StandardScaler()),\n",
    "                         ('clf', my_model)\n",
    "                        ])\n",
    "    \n",
    "    if gs_params != None:\n",
    "        roc_auc_scorer = make_scorer(roc_auc_score, greater_is_better=True)\n",
    "        pipe_gs = GridSearchCV(pipe, param_grid=gs_params, cv=10, n_jobs=-1, verbose=1, scoring=roc_auc_scorer)\n",
    "        pipe = pipe_gs\n",
    "    \n",
    "    pipe.fit(X_train, y_train)    \n",
    "    train_score = pipe.score(X_train, y_train)\n",
    "    test_score = pipe.score(X_test, y_test)\n",
    "    \n",
    "    y_pred = pipe.predict(X_test)\n",
    "    cm = get_cm(y_test, y_pred)\n",
    "    ll = log_loss(y_test, y_pred)\n",
    "    \n",
    "    print(my_model)\n",
    "    print('train score:', train_score)\n",
    "    print('test score:', test_score)\n",
    "    print('log loss:', ll)\n",
    "    print('confusion matrix:\\n', cm)\n",
    "    print()\n",
    "    \n",
    "    if gs_params != None:\n",
    "        return pipe.best_params_"
   ]
  },
  {
   "cell_type": "code",
   "execution_count": 5,
   "metadata": {
    "collapsed": true
   },
   "outputs": [],
   "source": [
    "m_features = pd.read_pickle('../pickled_data-UCI/madelon_important_features.p')\n",
    "imp_feats = list(m_features['feature'].head(20))"
   ]
  },
  {
   "cell_type": "code",
   "execution_count": 6,
   "metadata": {
    "collapsed": true
   },
   "outputs": [],
   "source": [
    "X_train = pd.read_pickle('../pickled_data-UCI/sample_1/df_sample_data.p')\n",
    "X_train = X_train[imp_feats]\n",
    "\n",
    "y_train = pd.read_pickle('../pickled_data-UCI/sample_1/df_sample_labels.p')\n",
    "y_train = y_train.values.ravel()\n",
    "\n",
    "X_test = pd.read_pickle('../pickled_data-UCI/madelon_valid_data.p')\n",
    "X_test = X_test[imp_feats]\n",
    "\n",
    "y_test = pd.read_pickle('../pickled_data-UCI/madelon_valid_labels.p')\n",
    "y_test = y_test.values.ravel()"
   ]
  },
  {
   "cell_type": "code",
   "execution_count": 7,
   "metadata": {
    "collapsed": true
   },
   "outputs": [],
   "source": [
    "mm_scaler = MinMaxScaler(feature_range=(0.00001, 1))\n",
    "\n",
    "X_train_mmsc = mm_scaler.fit_transform(X_train)\n",
    "X_test_mmsc = mm_scaler.fit_transform(X_test)"
   ]
  },
  {
   "cell_type": "code",
   "execution_count": 8,
   "metadata": {
    "collapsed": true
   },
   "outputs": [],
   "source": [
    "X_train_ds = deskew_df(pd.DataFrame(X_train_mmsc))\n",
    "X_test_ds = deskew_df(pd.DataFrame(X_test_mmsc))"
   ]
  },
  {
   "cell_type": "markdown",
   "metadata": {},
   "source": [
    "## Model Testing Pipelines with Feature Selection"
   ]
  },
  {
   "cell_type": "code",
   "execution_count": 9,
   "metadata": {},
   "outputs": [
    {
     "name": "stdout",
     "output_type": "stream",
     "text": [
      "LogisticRegression(C=0.0001, class_weight=None, dual=False,\n",
      "          fit_intercept=True, intercept_scaling=1, max_iter=100,\n",
      "          multi_class='ovr', n_jobs=1, penalty='l2', random_state=42,\n",
      "          solver='liblinear', tol=0.0001, verbose=0, warm_start=False)\n",
      "train score: 0.595\n",
      "test score: 0.61\n",
      "log loss: 13.470245399\n",
      "confusion matrix:\n",
      " [[ 0.6933  0.3067]\n",
      " [ 0.4733  0.5267]]\n",
      "\n"
     ]
    }
   ],
   "source": [
    "lr = LogisticRegression(C=1e-4, random_state=42)\n",
    "test_model(lr, X_train_ds, y_train, X_test_ds, y_test)"
   ]
  },
  {
   "cell_type": "code",
   "execution_count": 10,
   "metadata": {},
   "outputs": [
    {
     "name": "stdout",
     "output_type": "stream",
     "text": [
      "DecisionTreeClassifier(class_weight=None, criterion='gini', max_depth=None,\n",
      "            max_features=None, max_leaf_nodes=None,\n",
      "            min_impurity_split=1e-07, min_samples_leaf=1,\n",
      "            min_samples_split=2, min_weight_fraction_leaf=0.0,\n",
      "            presort=False, random_state=42, splitter='best')\n",
      "train score: 1.0\n",
      "test score: 0.696666666667\n",
      "log loss: 10.476904768\n",
      "confusion matrix:\n",
      " [[ 0.6433  0.3567]\n",
      " [ 0.25    0.75  ]]\n",
      "\n"
     ]
    }
   ],
   "source": [
    "dtc = DecisionTreeClassifier(random_state=42)\n",
    "test_model(dtc, X_train_ds, y_train, X_test_ds, y_test)"
   ]
  },
  {
   "cell_type": "code",
   "execution_count": 11,
   "metadata": {},
   "outputs": [
    {
     "name": "stdout",
     "output_type": "stream",
     "text": [
      "KNeighborsClassifier(algorithm='auto', leaf_size=30, metric='minkowski',\n",
      "           metric_params=None, n_jobs=1, n_neighbors=10, p=2,\n",
      "           weights='uniform')\n",
      "train score: 0.805\n",
      "test score: 0.706666666667\n",
      "log loss: 10.1314437076\n",
      "confusion matrix:\n",
      " [[ 0.8267  0.1733]\n",
      " [ 0.4133  0.5867]]\n",
      "\n"
     ]
    }
   ],
   "source": [
    "knc = KNeighborsClassifier(n_neighbors=10)\n",
    "test_model(knc, X_train_ds, y_train, X_test_ds, y_test)"
   ]
  },
  {
   "cell_type": "code",
   "execution_count": 12,
   "metadata": {},
   "outputs": [
    {
     "name": "stdout",
     "output_type": "stream",
     "text": [
      "SVC(C=0.0001, cache_size=200, class_weight=None, coef0=0.0,\n",
      "  decision_function_shape=None, degree=3, gamma='auto', kernel='linear',\n",
      "  max_iter=-1, probability=False, random_state=42, shrinking=True,\n",
      "  tol=0.001, verbose=False)\n",
      "train score: 0.503\n",
      "test score: 0.5\n",
      "log loss: 17.2697879962\n",
      "confusion matrix:\n",
      " [[ 0.  1.]\n",
      " [ 0.  1.]]\n",
      "\n"
     ]
    }
   ],
   "source": [
    "my_svc = SVC(C=1e-4, kernel='linear', random_state=42)\n",
    "test_model(my_svc, X_train_ds, y_train, X_test_ds, y_test)"
   ]
  },
  {
   "cell_type": "markdown",
   "metadata": {},
   "source": [
    "## Model Testing Pipelines with Feature Selection and Dimensionality Reduction"
   ]
  },
  {
   "cell_type": "code",
   "execution_count": 13,
   "metadata": {},
   "outputs": [
    {
     "name": "stdout",
     "output_type": "stream",
     "text": [
      "LogisticRegression(C=0.0001, class_weight=None, dual=False,\n",
      "          fit_intercept=True, intercept_scaling=1, max_iter=100,\n",
      "          multi_class='ovr', n_jobs=1, penalty='l2', random_state=42,\n",
      "          solver='liblinear', tol=0.0001, verbose=0, warm_start=False)\n",
      "train score: 0.579\n",
      "test score: 0.575\n",
      "log loss: 14.6791598773\n",
      "confusion matrix:\n",
      " [[ 0.55  0.45]\n",
      " [ 0.4   0.6 ]]\n",
      "\n"
     ]
    }
   ],
   "source": [
    "test_model(lr, X_train_ds, y_train, X_test_ds, y_test, pca_flag=True)"
   ]
  },
  {
   "cell_type": "code",
   "execution_count": 14,
   "metadata": {},
   "outputs": [
    {
     "name": "stdout",
     "output_type": "stream",
     "text": [
      "DecisionTreeClassifier(class_weight=None, criterion='gini', max_depth=None,\n",
      "            max_features=None, max_leaf_nodes=None,\n",
      "            min_impurity_split=1e-07, min_samples_leaf=1,\n",
      "            min_samples_split=2, min_weight_fraction_leaf=0.0,\n",
      "            presort=False, random_state=42, splitter='best')\n",
      "train score: 1.0\n",
      "test score: 0.65\n",
      "log loss: 12.0886903452\n",
      "confusion matrix:\n",
      " [[ 0.7033  0.2967]\n",
      " [ 0.4033  0.5967]]\n",
      "\n"
     ]
    }
   ],
   "source": [
    "test_model(dtc, X_train_ds, y_train, X_test_ds, y_test, pca_flag=True)"
   ]
  },
  {
   "cell_type": "code",
   "execution_count": 15,
   "metadata": {},
   "outputs": [
    {
     "name": "stdout",
     "output_type": "stream",
     "text": [
      "KNeighborsClassifier(algorithm='auto', leaf_size=30, metric='minkowski',\n",
      "           metric_params=None, n_jobs=1, n_neighbors=10, p=2,\n",
      "           weights='uniform')\n",
      "train score: 0.825\n",
      "test score: 0.708333333333\n",
      "log loss: 10.0739137295\n",
      "confusion matrix:\n",
      " [[ 0.74    0.26  ]\n",
      " [ 0.3233  0.6767]]\n",
      "\n"
     ]
    }
   ],
   "source": [
    "test_model(knc, X_train_ds, y_train, X_test_ds, y_test, pca_flag=True)"
   ]
  },
  {
   "cell_type": "code",
   "execution_count": 16,
   "metadata": {},
   "outputs": [
    {
     "name": "stdout",
     "output_type": "stream",
     "text": [
      "SVC(C=0.0001, cache_size=200, class_weight=None, coef0=0.0,\n",
      "  decision_function_shape=None, degree=3, gamma='auto', kernel='linear',\n",
      "  max_iter=-1, probability=False, random_state=42, shrinking=True,\n",
      "  tol=0.001, verbose=False)\n",
      "train score: 0.503\n",
      "test score: 0.5\n",
      "log loss: 17.2697879962\n",
      "confusion matrix:\n",
      " [[ 0.  1.]\n",
      " [ 0.  1.]]\n",
      "\n"
     ]
    }
   ],
   "source": [
    "test_model(my_svc, X_train_ds, y_train, X_test_ds, y_test, pca_flag=True)"
   ]
  }
 ],
 "metadata": {
  "kernelspec": {
   "display_name": "Python 3",
   "language": "python",
   "name": "python3"
  },
  "language_info": {
   "codemirror_mode": {
    "name": "ipython",
    "version": 3
   },
   "file_extension": ".py",
   "mimetype": "text/x-python",
   "name": "python",
   "nbconvert_exporter": "python",
   "pygments_lexer": "ipython3",
   "version": "3.6.2"
  }
 },
 "nbformat": 4,
 "nbformat_minor": 2
}
