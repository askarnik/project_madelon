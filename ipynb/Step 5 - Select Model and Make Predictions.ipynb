{
 "cells": [
  {
   "cell_type": "code",
   "execution_count": 2,
   "metadata": {
    "collapsed": true
   },
   "outputs": [],
   "source": [
    "import pandas as pd\n",
    "import numpy as np\n",
    "import matplotlib.pyplot as plt\n",
    "from sklearn.pipeline import Pipeline\n",
    "from sklearn.preprocessing import StandardScaler, MinMaxScaler, PolynomialFeatures\n",
    "from sklearn.decomposition import PCA\n",
    "from sklearn.linear_model import LogisticRegression\n",
    "from sklearn.model_selection import cross_val_score, GridSearchCV\n",
    "from sklearn.metrics import roc_auc_score, make_scorer\n",
    "\n",
    "from sklearn.tree import DecisionTreeClassifier\n",
    "from sklearn.neighbors import KNeighborsClassifier\n",
    "from sklearn.svm import SVC\n",
    "\n",
    "from sklearn.metrics import confusion_matrix, log_loss\n",
    "import scipy.stats as st\n",
    "\n",
    "np.random.seed(42)"
   ]
  },
  {
   "cell_type": "code",
   "execution_count": 3,
   "metadata": {
    "collapsed": true
   },
   "outputs": [],
   "source": [
    "def get_cm(y_test, y_pred):\n",
    "    cm = confusion_matrix(y_test, y_pred)\n",
    "    cm = cm / cm.astype(float).sum(axis=1)\n",
    "    np.round_(cm, decimals=4, out=cm)\n",
    "    \n",
    "    return cm"
   ]
  },
  {
   "cell_type": "code",
   "execution_count": 4,
   "metadata": {
    "collapsed": true
   },
   "outputs": [],
   "source": [
    "def deskew_df(df):\n",
    "    box_cox_df = pd.DataFrame()\n",
    "    for col in df.columns:\n",
    "        box_cox_col = st.boxcox(df[col])[0]\n",
    "        box_cox_df[col] = pd.Series(box_cox_col)\n",
    "        \n",
    "    return box_cox_df"
   ]
  },
  {
   "cell_type": "code",
   "execution_count": 5,
   "metadata": {
    "collapsed": true
   },
   "outputs": [],
   "source": [
    "def test_model(my_model, X_train, y_train, X_test, y_test, my_rand_state=42, pca_flag=False, gs_params=None):\n",
    "    if pca_flag:\n",
    "        pipe = Pipeline([('scaler', StandardScaler()),\n",
    "                         ('pca', PCA(n_components=5, random_state=my_rand_state)),\n",
    "                         ('clf', my_model)\n",
    "                        ])\n",
    "    else:\n",
    "        pipe = Pipeline([('scaler', StandardScaler()),\n",
    "                         ('clf', my_model)\n",
    "                        ])\n",
    "    \n",
    "    if gs_params != None:\n",
    "        roc_auc_scorer = make_scorer(roc_auc_score, greater_is_better=True)\n",
    "        pipe_gs = GridSearchCV(pipe, param_grid=gs_params, cv=10, n_jobs=-1, verbose=1, scoring=roc_auc_scorer)\n",
    "        pipe = pipe_gs\n",
    "    \n",
    "    pipe.fit(X_train, y_train)    \n",
    "    train_score = pipe.score(X_train, y_train)\n",
    "    test_score = pipe.score(X_test, y_test)\n",
    "    \n",
    "    y_pred = pipe.predict(X_test)\n",
    "    cm = get_cm(y_test, y_pred)\n",
    "    ll = log_loss(y_test, y_pred)\n",
    "    \n",
    "    print(my_model)\n",
    "    print('train score:', train_score)\n",
    "    print('test score:', test_score)\n",
    "    print('log loss:', ll)\n",
    "    print('confusion matrix:\\n', cm)\n",
    "    print()\n",
    "    \n",
    "    if gs_params != None:\n",
    "        return pipe.best_params_"
   ]
  },
  {
   "cell_type": "code",
   "execution_count": 6,
   "metadata": {
    "collapsed": true
   },
   "outputs": [],
   "source": [
    "def sample_df(X, y, sample_pct=.1):\n",
    "    sample_size = int(sample_pct * X.shape[0])\n",
    "    \n",
    "    X_sample = X.sample(sample_size)\n",
    "    y_sample = y.iloc[X_sample.index.values]\n",
    "    \n",
    "    return X_sample, y_sample"
   ]
  },
  {
   "cell_type": "code",
   "execution_count": 7,
   "metadata": {
    "collapsed": true
   },
   "outputs": [],
   "source": [
    "m_features = pd.read_pickle('../pickled_data-UCI/madelon_important_features.p')\n",
    "imp_feats = list(m_features['feature'].head(20))"
   ]
  },
  {
   "cell_type": "code",
   "execution_count": 8,
   "metadata": {
    "collapsed": true
   },
   "outputs": [],
   "source": [
    "X_train = pd.read_pickle('../pickled_data-UCI/madelon_train_data.p')\n",
    "X_train = X_train[imp_feats]\n",
    "\n",
    "y_train = pd.read_pickle('../pickled_data-UCI/madelon_train_labels.p')\n",
    "y_train = y_train.values.ravel()\n",
    "\n",
    "X_test = pd.read_pickle('../pickled_data-UCI/madelon_valid_data.p')\n",
    "X_test = X_test[imp_feats]\n",
    "\n",
    "y_test = pd.read_pickle('../pickled_data-UCI/madelon_valid_labels.p')\n",
    "y_test = y_test.values.ravel()"
   ]
  },
  {
   "cell_type": "code",
   "execution_count": 9,
   "metadata": {
    "collapsed": true
   },
   "outputs": [],
   "source": [
    "mm_scaler = MinMaxScaler(feature_range=(0.00001, 1))\n",
    "\n",
    "X_train_mmsc = mm_scaler.fit_transform(X_train)\n",
    "X_test_mmsc = mm_scaler.fit_transform(X_test)"
   ]
  },
  {
   "cell_type": "code",
   "execution_count": 10,
   "metadata": {
    "collapsed": true
   },
   "outputs": [],
   "source": [
    "X_train_ds = deskew_df(pd.DataFrame(X_train_mmsc))\n",
    "X_test_ds = deskew_df(pd.DataFrame(X_test_mmsc))"
   ]
  },
  {
   "cell_type": "markdown",
   "metadata": {},
   "source": [
    "## Run KNC with Feature Selection - Full Data"
   ]
  },
  {
   "cell_type": "code",
   "execution_count": 11,
   "metadata": {},
   "outputs": [
    {
     "name": "stdout",
     "output_type": "stream",
     "text": [
      "KNeighborsClassifier(algorithm='auto', leaf_size=30, metric='minkowski',\n",
      "           metric_params=None, n_jobs=-1, n_neighbors=10, p=1,\n",
      "           weights='distance')\n",
      "train score: 1.0\n",
      "test score: 0.77\n",
      "log loss: 7.94400919187\n",
      "confusion matrix:\n",
      " [[ 0.7733  0.2267]\n",
      " [ 0.2333  0.7667]]\n",
      "\n"
     ]
    }
   ],
   "source": [
    "knc = KNeighborsClassifier(n_neighbors=10, weights='distance', p=1, algorithm='auto', n_jobs=-1)\n",
    "test_model(knc, X_train_ds, y_train, X_test_ds, y_test)"
   ]
  },
  {
   "cell_type": "markdown",
   "metadata": {},
   "source": [
    "## Run KNC with Feature Selection - Sample 1 (10%) "
   ]
  },
  {
   "cell_type": "code",
   "execution_count": 15,
   "metadata": {},
   "outputs": [
    {
     "name": "stdout",
     "output_type": "stream",
     "text": [
      "KNeighborsClassifier(algorithm='auto', leaf_size=30, metric='minkowski',\n",
      "           metric_params=None, n_jobs=-1, n_neighbors=10, p=1,\n",
      "           weights='distance')\n",
      "train score: 1.0\n",
      "test score: 0.696666666667\n",
      "log loss: 10.4769034353\n",
      "confusion matrix:\n",
      " [[ 0.6467  0.3533]\n",
      " [ 0.2533  0.7467]]\n",
      "\n"
     ]
    }
   ],
   "source": [
    "X_train_sample, y_train_sample = sample_df(X_train_ds, pd.DataFrame(y_train))\n",
    "y_train_sample = y_train_sample.values.ravel()\n",
    "test_model(knc, X_train_sample, y_train_sample, X_test_ds, y_test)"
   ]
  },
  {
   "cell_type": "markdown",
   "metadata": {
    "collapsed": true
   },
   "source": [
    "\n"
   ]
  },
  {
   "cell_type": "markdown",
   "metadata": {},
   "source": [
    "## Run KNC with Feature Selection - Sample 2 (10%) "
   ]
  },
  {
   "cell_type": "code",
   "execution_count": 16,
   "metadata": {},
   "outputs": [
    {
     "name": "stdout",
     "output_type": "stream",
     "text": [
      "KNeighborsClassifier(algorithm='auto', leaf_size=30, metric='minkowski',\n",
      "           metric_params=None, n_jobs=-1, n_neighbors=10, p=1,\n",
      "           weights='distance')\n",
      "train score: 1.0\n",
      "test score: 0.653333333333\n",
      "log loss: 11.9735757498\n",
      "confusion matrix:\n",
      " [[ 0.6667  0.3333]\n",
      " [ 0.36    0.64  ]]\n",
      "\n"
     ]
    }
   ],
   "source": [
    "X_train_sample, y_train_sample = sample_df(X_train_ds, pd.DataFrame(y_train))\n",
    "y_train_sample = y_train_sample.values.ravel()\n",
    "test_model(knc, X_train_sample, y_train_sample, X_test_ds, y_test)"
   ]
  },
  {
   "cell_type": "markdown",
   "metadata": {},
   "source": [
    "## Run KNC with Feature Selection - Sample 3 (10%) "
   ]
  },
  {
   "cell_type": "code",
   "execution_count": 17,
   "metadata": {},
   "outputs": [
    {
     "name": "stdout",
     "output_type": "stream",
     "text": [
      "KNeighborsClassifier(algorithm='auto', leaf_size=30, metric='minkowski',\n",
      "           metric_params=None, n_jobs=-1, n_neighbors=10, p=1,\n",
      "           weights='distance')\n",
      "train score: 1.0\n",
      "test score: 0.676666666667\n",
      "log loss: 11.1675950055\n",
      "confusion matrix:\n",
      " [[ 0.8567  0.1433]\n",
      " [ 0.5033  0.4967]]\n",
      "\n"
     ]
    }
   ],
   "source": [
    "X_train_sample, y_train_sample = sample_df(X_train_ds, pd.DataFrame(y_train))\n",
    "y_train_sample = y_train_sample.values.ravel()\n",
    "test_model(knc, X_train_sample, y_train_sample, X_test_ds, y_test)"
   ]
  },
  {
   "cell_type": "markdown",
   "metadata": {},
   "source": [
    "## Run KNC with Feature Selection - Sample 1 (25%) "
   ]
  },
  {
   "cell_type": "code",
   "execution_count": 12,
   "metadata": {},
   "outputs": [
    {
     "name": "stdout",
     "output_type": "stream",
     "text": [
      "KNeighborsClassifier(algorithm='auto', leaf_size=30, metric='minkowski',\n",
      "           metric_params=None, n_jobs=-1, n_neighbors=10, p=1,\n",
      "           weights='distance')\n",
      "train score: 1.0\n",
      "test score: 0.698333333333\n",
      "log loss: 10.4193214834\n",
      "confusion matrix:\n",
      " [[ 0.69    0.31  ]\n",
      " [ 0.2933  0.7067]]\n",
      "\n"
     ]
    }
   ],
   "source": [
    "X_train_sample, y_train_sample = sample_df(X_train_ds, pd.DataFrame(y_train), .25)\n",
    "y_train_sample = y_train_sample.values.ravel()\n",
    "test_model(knc, X_train_sample, y_train_sample, X_test_ds, y_test)"
   ]
  },
  {
   "cell_type": "markdown",
   "metadata": {},
   "source": [
    "## Run KNC with Feature Selection - Sample 2 (25%) "
   ]
  },
  {
   "cell_type": "code",
   "execution_count": 13,
   "metadata": {},
   "outputs": [
    {
     "name": "stdout",
     "output_type": "stream",
     "text": [
      "KNeighborsClassifier(algorithm='auto', leaf_size=30, metric='minkowski',\n",
      "           metric_params=None, n_jobs=-1, n_neighbors=10, p=1,\n",
      "           weights='distance')\n",
      "train score: 1.0\n",
      "test score: 0.721666666667\n",
      "log loss: 9.61339671092\n",
      "confusion matrix:\n",
      " [[ 0.74    0.26  ]\n",
      " [ 0.2967  0.7033]]\n",
      "\n"
     ]
    }
   ],
   "source": [
    "X_train_sample, y_train_sample = sample_df(X_train_ds, pd.DataFrame(y_train), .25)\n",
    "y_train_sample = y_train_sample.values.ravel()\n",
    "test_model(knc, X_train_sample, y_train_sample, X_test_ds, y_test)"
   ]
  },
  {
   "cell_type": "markdown",
   "metadata": {},
   "source": [
    "## Run KNC with Feature Selection - Sample 3 (25%) "
   ]
  },
  {
   "cell_type": "code",
   "execution_count": 14,
   "metadata": {},
   "outputs": [
    {
     "name": "stdout",
     "output_type": "stream",
     "text": [
      "KNeighborsClassifier(algorithm='auto', leaf_size=30, metric='minkowski',\n",
      "           metric_params=None, n_jobs=-1, n_neighbors=10, p=1,\n",
      "           weights='distance')\n",
      "train score: 1.0\n",
      "test score: 0.716666666667\n",
      "log loss: 9.78609992153\n",
      "confusion matrix:\n",
      " [[ 0.7167  0.2833]\n",
      " [ 0.2833  0.7167]]\n",
      "\n"
     ]
    }
   ],
   "source": [
    "X_train_sample, y_train_sample = sample_df(X_train_ds, pd.DataFrame(y_train), .25)\n",
    "y_train_sample = y_train_sample.values.ravel()\n",
    "test_model(knc, X_train_sample, y_train_sample, X_test_ds, y_test)"
   ]
  },
  {
   "cell_type": "code",
   "execution_count": null,
   "metadata": {
    "collapsed": true
   },
   "outputs": [],
   "source": []
  }
 ],
 "metadata": {
  "kernelspec": {
   "display_name": "Python 3",
   "language": "python",
   "name": "python3"
  },
  "language_info": {
   "codemirror_mode": {
    "name": "ipython",
    "version": 3
   },
   "file_extension": ".py",
   "mimetype": "text/x-python",
   "name": "python",
   "nbconvert_exporter": "python",
   "pygments_lexer": "ipython3",
   "version": "3.6.2"
  }
 },
 "nbformat": 4,
 "nbformat_minor": 2
}
