{
 "cells": [
  {
   "cell_type": "code",
   "execution_count": 1,
   "metadata": {
    "collapsed": true
   },
   "outputs": [],
   "source": [
    "import pandas as pd\n",
    "import numpy as np\n",
    "import matplotlib.pyplot as plt\n",
    "from sklearn.pipeline import Pipeline\n",
    "from sklearn.preprocessing import StandardScaler, MinMaxScaler, PolynomialFeatures\n",
    "from sklearn.model_selection import train_test_split\n",
    "from sklearn.linear_model import LogisticRegression\n",
    "from sklearn.tree import DecisionTreeClassifier\n",
    "from sklearn.neighbors import KNeighborsClassifier\n",
    "from sklearn.svm import SVC\n",
    "from sklearn.metrics import confusion_matrix\n",
    "\n",
    "np.random.seed(42)"
   ]
  },
  {
   "cell_type": "code",
   "execution_count": 2,
   "metadata": {
    "collapsed": true
   },
   "outputs": [],
   "source": [
    "def get_cm(y_test, y_pred):\n",
    "    cm = confusion_matrix(y_test, y_pred)\n",
    "    cm = cm / cm.astype(float).sum(axis=1)\n",
    "    np.round_(cm, decimals=4, out=cm)\n",
    "    \n",
    "    return cm"
   ]
  },
  {
   "cell_type": "code",
   "execution_count": 3,
   "metadata": {
    "collapsed": true
   },
   "outputs": [],
   "source": [
    "X_train = pd.read_pickle('../pickled_data-UCI/sample_1/df_sample_data.p')\n",
    "y_train = pd.read_pickle('../pickled_data-UCI/sample_1/df_sample_labels.p')\n",
    "y_train = y_train.values.ravel()\n",
    "X_test = pd.read_pickle('../pickled_data-UCI/madelon_valid_data.p')\n",
    "y_test = pd.read_pickle('../pickled_data-UCI/madelon_valid_labels.p')"
   ]
  },
  {
   "cell_type": "code",
   "execution_count": 4,
   "metadata": {
    "collapsed": true
   },
   "outputs": [],
   "source": [
    "logreg_pipe = Pipeline([('scaler', StandardScaler()), \n",
    "                        ('logreg', LogisticRegression(C=1e9, random_state=42))\n",
    "                       ])\n",
    "\n",
    "dtc_pipe = Pipeline([('scaler', StandardScaler()), \n",
    "                     ('dtc', DecisionTreeClassifier(random_state=42))\n",
    "                    ])\n",
    "\n",
    "knc_pipe = Pipeline([('scaler', StandardScaler()), \n",
    "                     ('knc', KNeighborsClassifier(n_neighbors=20))\n",
    "                    ])\n",
    "\n",
    "svc_pipe = Pipeline([('scaler', StandardScaler()), \n",
    "                     ('svc', SVC(C=1e9, kernel='linear', random_state=42))\n",
    "                    ])"
   ]
  },
  {
   "cell_type": "code",
   "execution_count": 5,
   "metadata": {
    "collapsed": true
   },
   "outputs": [],
   "source": [
    "dict_benchmark = {'1) model':[], '2) train_score':[], '3) test_score':[], '4) confusion_matrix':[]}"
   ]
  },
  {
   "cell_type": "code",
   "execution_count": 6,
   "metadata": {},
   "outputs": [
    {
     "data": {
      "text/html": [
       "<div>\n",
       "<table border=\"1\" class=\"dataframe\">\n",
       "  <thead>\n",
       "    <tr style=\"text-align: right;\">\n",
       "      <th></th>\n",
       "      <th>1) model</th>\n",
       "      <th>2) train_score</th>\n",
       "      <th>3) test_score</th>\n",
       "      <th>4) confusion_matrix</th>\n",
       "    </tr>\n",
       "  </thead>\n",
       "  <tbody>\n",
       "    <tr>\n",
       "      <th>0</th>\n",
       "      <td>logistic regression</td>\n",
       "      <td>1.000</td>\n",
       "      <td>0.568333</td>\n",
       "      <td>[[0.57, 0.43], [0.4333, 0.5667]]</td>\n",
       "    </tr>\n",
       "    <tr>\n",
       "      <th>1</th>\n",
       "      <td>decision tree classifier</td>\n",
       "      <td>1.000</td>\n",
       "      <td>0.701667</td>\n",
       "      <td>[[0.7067, 0.2933], [0.3033, 0.6967]]</td>\n",
       "    </tr>\n",
       "    <tr>\n",
       "      <th>2</th>\n",
       "      <td>kneighbors classifier</td>\n",
       "      <td>0.642</td>\n",
       "      <td>0.595000</td>\n",
       "      <td>[[0.6, 0.4], [0.41, 0.59]]</td>\n",
       "    </tr>\n",
       "    <tr>\n",
       "      <th>3</th>\n",
       "      <td>support vector classifier</td>\n",
       "      <td>1.000</td>\n",
       "      <td>0.565000</td>\n",
       "      <td>[[0.57, 0.43], [0.44, 0.56]]</td>\n",
       "    </tr>\n",
       "  </tbody>\n",
       "</table>\n",
       "</div>"
      ],
      "text/plain": [
       "                    1) model  2) train_score  3) test_score  \\\n",
       "0        logistic regression           1.000       0.568333   \n",
       "1   decision tree classifier           1.000       0.701667   \n",
       "2      kneighbors classifier           0.642       0.595000   \n",
       "3  support vector classifier           1.000       0.565000   \n",
       "\n",
       "                    4) confusion_matrix  \n",
       "0      [[0.57, 0.43], [0.4333, 0.5667]]  \n",
       "1  [[0.7067, 0.2933], [0.3033, 0.6967]]  \n",
       "2            [[0.6, 0.4], [0.41, 0.59]]  \n",
       "3          [[0.57, 0.43], [0.44, 0.56]]  "
      ]
     },
     "execution_count": 6,
     "metadata": {},
     "output_type": "execute_result"
    }
   ],
   "source": [
    "for model_name, my_pipe in [('logistic regression', logreg_pipe), ('decision tree classifier', dtc_pipe), \\\n",
    "                            ('kneighbors classifier', knc_pipe), ('support vector classifier', svc_pipe)]:\n",
    "    \n",
    "    my_pipe.fit(X_train, y_train)\n",
    "    train_score = my_pipe.score(X_train, y_train)\n",
    "    test_score = my_pipe.score(X_test, y_test)\n",
    "    \n",
    "    y_pred = my_pipe.predict(X_test)\n",
    "    cm = get_cm(y_test, y_pred)\n",
    "    \n",
    "    dict_benchmark['1) model'].append(model_name)\n",
    "    dict_benchmark['2) train_score'].append(train_score)\n",
    "    dict_benchmark['3) test_score'].append(test_score)\n",
    "    dict_benchmark['4) confusion_matrix'].append(cm)\n",
    "\n",
    "pd.DataFrame(dict_benchmark)"
   ]
  },
  {
   "cell_type": "code",
   "execution_count": null,
   "metadata": {
    "collapsed": true
   },
   "outputs": [],
   "source": []
  }
 ],
 "metadata": {
  "kernelspec": {
   "display_name": "Python 3",
   "language": "python",
   "name": "python3"
  },
  "language_info": {
   "codemirror_mode": {
    "name": "ipython",
    "version": 3
   },
   "file_extension": ".py",
   "mimetype": "text/x-python",
   "name": "python",
   "nbconvert_exporter": "python",
   "pygments_lexer": "ipython3",
   "version": "3.6.2"
  }
 },
 "nbformat": 4,
 "nbformat_minor": 2
}
