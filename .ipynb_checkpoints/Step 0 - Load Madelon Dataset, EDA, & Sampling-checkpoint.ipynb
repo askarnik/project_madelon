{
 "cells": [
  {
   "cell_type": "markdown",
   "metadata": {},
   "source": [
    "## Import data & EDA"
   ]
  },
  {
   "cell_type": "code",
   "execution_count": 83,
   "metadata": {
    "collapsed": true
   },
   "outputs": [],
   "source": [
    "import pandas as pd\n",
    "import numpy as np\n",
    "import matplotlib.pyplot as plt\n",
    "\n",
    "np.random.seed(42)"
   ]
  },
  {
   "cell_type": "code",
   "execution_count": 84,
   "metadata": {
    "collapsed": true
   },
   "outputs": [],
   "source": [
    "def plot_null_values(df):\n",
    "    dict_null_count = {}\n",
    "\n",
    "    for col in df.columns:\n",
    "        null_count = df[col].isnull().sum()\n",
    "        if null_count > 0:\n",
    "            dict_null_count[col] = null_count\n",
    "\n",
    "    x = np.arange(len(dict_null_count))\n",
    "    y = dict_null_count.values()\n",
    "\n",
    "    plt.bar(x, y)\n",
    "    plt.xticks(x, dict_null_count.keys(), rotation='vertical')\n",
    "    plt.show()"
   ]
  },
  {
   "cell_type": "code",
   "execution_count": 85,
   "metadata": {
    "collapsed": true
   },
   "outputs": [],
   "source": [
    "df_train_data = pd.read_csv('data/madelon_train.data', sep=' ', header=None)\n",
    "df_test_data = pd.read_csv('data/madelon_test.data', sep=' ', header=None)\n",
    "df_valid_data = pd.read_csv('data/madelon_valid.data', sep=' ', header=None)"
   ]
  },
  {
   "cell_type": "code",
   "execution_count": 86,
   "metadata": {},
   "outputs": [
    {
     "data": {
      "image/png": "[encoded data removed]",
      "text/plain": [
       "<matplotlib.figure.Figure at 0x7fe3a616bba8>"
      ]
     },
     "metadata": {},
     "output_type": "display_data"
    },
    {
     "data": {
      "image/png": "[encoded data removed]",
      "text/plain": [
       "<matplotlib.figure.Figure at 0x7fe3a616bb38>"
      ]
     },
     "metadata": {},
     "output_type": "display_data"
    },
    {
     "data": {
      "image/png": "[encoded data removed]",
      "text/plain": [
       "<matplotlib.figure.Figure at 0x7fe3a4ac4c50>"
      ]
     },
     "metadata": {},
     "output_type": "display_data"
    }
   ],
   "source": [
    "plot_null_values(df_train_data)\n",
    "plot_null_values(df_test_data)\n",
    "plot_null_values(df_valid_data)"
   ]
  },
  {
   "cell_type": "code",
   "execution_count": 87,
   "metadata": {},
   "outputs": [
    {
     "data": {
      "text/html": [
       "<div>\n",
       "<table border=\"1\" class=\"dataframe\">\n",
       "  <thead>\n",
       "    <tr style=\"text-align: right;\">\n",
       "      <th></th>\n",
       "      <th>0</th>\n",
       "      <th>1</th>\n",
       "      <th>2</th>\n",
       "      <th>3</th>\n",
       "      <th>4</th>\n",
       "      <th>5</th>\n",
       "      <th>6</th>\n",
       "      <th>7</th>\n",
       "      <th>8</th>\n",
       "      <th>9</th>\n",
       "      <th>...</th>\n",
       "      <th>491</th>\n",
       "      <th>492</th>\n",
       "      <th>493</th>\n",
       "      <th>494</th>\n",
       "      <th>495</th>\n",
       "      <th>496</th>\n",
       "      <th>497</th>\n",
       "      <th>498</th>\n",
       "      <th>499</th>\n",
       "      <th>500</th>\n",
       "    </tr>\n",
       "  </thead>\n",
       "  <tbody>\n",
       "    <tr>\n",
       "      <th>0</th>\n",
       "      <td>485</td>\n",
       "      <td>477</td>\n",
       "      <td>537</td>\n",
       "      <td>479</td>\n",
       "      <td>452</td>\n",
       "      <td>471</td>\n",
       "      <td>491</td>\n",
       "      <td>476</td>\n",
       "      <td>475</td>\n",
       "      <td>473</td>\n",
       "      <td>...</td>\n",
       "      <td>481</td>\n",
       "      <td>477</td>\n",
       "      <td>485</td>\n",
       "      <td>511</td>\n",
       "      <td>485</td>\n",
       "      <td>481</td>\n",
       "      <td>479</td>\n",
       "      <td>475</td>\n",
       "      <td>496</td>\n",
       "      <td>NaN</td>\n",
       "    </tr>\n",
       "    <tr>\n",
       "      <th>1</th>\n",
       "      <td>483</td>\n",
       "      <td>458</td>\n",
       "      <td>460</td>\n",
       "      <td>487</td>\n",
       "      <td>587</td>\n",
       "      <td>475</td>\n",
       "      <td>526</td>\n",
       "      <td>479</td>\n",
       "      <td>485</td>\n",
       "      <td>469</td>\n",
       "      <td>...</td>\n",
       "      <td>478</td>\n",
       "      <td>487</td>\n",
       "      <td>338</td>\n",
       "      <td>513</td>\n",
       "      <td>486</td>\n",
       "      <td>483</td>\n",
       "      <td>492</td>\n",
       "      <td>510</td>\n",
       "      <td>517</td>\n",
       "      <td>NaN</td>\n",
       "    </tr>\n",
       "    <tr>\n",
       "      <th>2</th>\n",
       "      <td>487</td>\n",
       "      <td>542</td>\n",
       "      <td>499</td>\n",
       "      <td>468</td>\n",
       "      <td>448</td>\n",
       "      <td>471</td>\n",
       "      <td>442</td>\n",
       "      <td>478</td>\n",
       "      <td>480</td>\n",
       "      <td>477</td>\n",
       "      <td>...</td>\n",
       "      <td>481</td>\n",
       "      <td>492</td>\n",
       "      <td>650</td>\n",
       "      <td>506</td>\n",
       "      <td>501</td>\n",
       "      <td>480</td>\n",
       "      <td>489</td>\n",
       "      <td>499</td>\n",
       "      <td>498</td>\n",
       "      <td>NaN</td>\n",
       "    </tr>\n",
       "    <tr>\n",
       "      <th>3</th>\n",
       "      <td>480</td>\n",
       "      <td>491</td>\n",
       "      <td>510</td>\n",
       "      <td>485</td>\n",
       "      <td>495</td>\n",
       "      <td>472</td>\n",
       "      <td>417</td>\n",
       "      <td>474</td>\n",
       "      <td>502</td>\n",
       "      <td>476</td>\n",
       "      <td>...</td>\n",
       "      <td>480</td>\n",
       "      <td>474</td>\n",
       "      <td>572</td>\n",
       "      <td>454</td>\n",
       "      <td>469</td>\n",
       "      <td>475</td>\n",
       "      <td>482</td>\n",
       "      <td>494</td>\n",
       "      <td>461</td>\n",
       "      <td>NaN</td>\n",
       "    </tr>\n",
       "    <tr>\n",
       "      <th>4</th>\n",
       "      <td>484</td>\n",
       "      <td>502</td>\n",
       "      <td>528</td>\n",
       "      <td>489</td>\n",
       "      <td>466</td>\n",
       "      <td>481</td>\n",
       "      <td>402</td>\n",
       "      <td>478</td>\n",
       "      <td>487</td>\n",
       "      <td>468</td>\n",
       "      <td>...</td>\n",
       "      <td>479</td>\n",
       "      <td>452</td>\n",
       "      <td>435</td>\n",
       "      <td>486</td>\n",
       "      <td>508</td>\n",
       "      <td>481</td>\n",
       "      <td>504</td>\n",
       "      <td>495</td>\n",
       "      <td>511</td>\n",
       "      <td>NaN</td>\n",
       "    </tr>\n",
       "  </tbody>\n",
       "</table>\n",
       "<p>5 rows × 501 columns</p>\n",
       "</div>"
      ],
      "text/plain": [
       "   0    1    2    3    4    5    6    7    8    9   ...   491  492  493  494  \\\n",
       "0  485  477  537  479  452  471  491  476  475  473 ...   481  477  485  511   \n",
       "1  483  458  460  487  587  475  526  479  485  469 ...   478  487  338  513   \n",
       "2  487  542  499  468  448  471  442  478  480  477 ...   481  492  650  506   \n",
       "3  480  491  510  485  495  472  417  474  502  476 ...   480  474  572  454   \n",
       "4  484  502  528  489  466  481  402  478  487  468 ...   479  452  435  486   \n",
       "\n",
       "   495  496  497  498  499  500  \n",
       "0  485  481  479  475  496  NaN  \n",
       "1  486  483  492  510  517  NaN  \n",
       "2  501  480  489  499  498  NaN  \n",
       "3  469  475  482  494  461  NaN  \n",
       "4  508  481  504  495  511  NaN  \n",
       "\n",
       "[5 rows x 501 columns]"
      ]
     },
     "execution_count": 87,
     "metadata": {},
     "output_type": "execute_result"
    }
   ],
   "source": [
    "df_train_data.head()"
   ]
  },
  {
   "cell_type": "code",
   "execution_count": 88,
   "metadata": {},
   "outputs": [
    {
     "data": {
      "text/html": [
       "<div>\n",
       "<table border=\"1\" class=\"dataframe\">\n",
       "  <thead>\n",
       "    <tr style=\"text-align: right;\">\n",
       "      <th></th>\n",
       "      <th>0</th>\n",
       "      <th>1</th>\n",
       "      <th>2</th>\n",
       "      <th>3</th>\n",
       "      <th>4</th>\n",
       "      <th>5</th>\n",
       "      <th>6</th>\n",
       "      <th>7</th>\n",
       "      <th>8</th>\n",
       "      <th>9</th>\n",
       "      <th>...</th>\n",
       "      <th>491</th>\n",
       "      <th>492</th>\n",
       "      <th>493</th>\n",
       "      <th>494</th>\n",
       "      <th>495</th>\n",
       "      <th>496</th>\n",
       "      <th>497</th>\n",
       "      <th>498</th>\n",
       "      <th>499</th>\n",
       "      <th>500</th>\n",
       "    </tr>\n",
       "  </thead>\n",
       "  <tbody>\n",
       "    <tr>\n",
       "      <th>0</th>\n",
       "      <td>483</td>\n",
       "      <td>460</td>\n",
       "      <td>559</td>\n",
       "      <td>477</td>\n",
       "      <td>462</td>\n",
       "      <td>491</td>\n",
       "      <td>499</td>\n",
       "      <td>475</td>\n",
       "      <td>495</td>\n",
       "      <td>479</td>\n",
       "      <td>...</td>\n",
       "      <td>480</td>\n",
       "      <td>546</td>\n",
       "      <td>630</td>\n",
       "      <td>434</td>\n",
       "      <td>497</td>\n",
       "      <td>479</td>\n",
       "      <td>503</td>\n",
       "      <td>465</td>\n",
       "      <td>494</td>\n",
       "      <td>NaN</td>\n",
       "    </tr>\n",
       "    <tr>\n",
       "      <th>1</th>\n",
       "      <td>484</td>\n",
       "      <td>509</td>\n",
       "      <td>538</td>\n",
       "      <td>473</td>\n",
       "      <td>548</td>\n",
       "      <td>497</td>\n",
       "      <td>551</td>\n",
       "      <td>477</td>\n",
       "      <td>498</td>\n",
       "      <td>471</td>\n",
       "      <td>...</td>\n",
       "      <td>482</td>\n",
       "      <td>493</td>\n",
       "      <td>442</td>\n",
       "      <td>440</td>\n",
       "      <td>587</td>\n",
       "      <td>475</td>\n",
       "      <td>483</td>\n",
       "      <td>509</td>\n",
       "      <td>455</td>\n",
       "      <td>NaN</td>\n",
       "    </tr>\n",
       "    <tr>\n",
       "      <th>2</th>\n",
       "      <td>476</td>\n",
       "      <td>529</td>\n",
       "      <td>558</td>\n",
       "      <td>477</td>\n",
       "      <td>505</td>\n",
       "      <td>486</td>\n",
       "      <td>545</td>\n",
       "      <td>477</td>\n",
       "      <td>473</td>\n",
       "      <td>480</td>\n",
       "      <td>...</td>\n",
       "      <td>482</td>\n",
       "      <td>465</td>\n",
       "      <td>389</td>\n",
       "      <td>460</td>\n",
       "      <td>459</td>\n",
       "      <td>484</td>\n",
       "      <td>476</td>\n",
       "      <td>564</td>\n",
       "      <td>521</td>\n",
       "      <td>NaN</td>\n",
       "    </tr>\n",
       "    <tr>\n",
       "      <th>3</th>\n",
       "      <td>487</td>\n",
       "      <td>475</td>\n",
       "      <td>480</td>\n",
       "      <td>494</td>\n",
       "      <td>477</td>\n",
       "      <td>472</td>\n",
       "      <td>512</td>\n",
       "      <td>477</td>\n",
       "      <td>486</td>\n",
       "      <td>480</td>\n",
       "      <td>...</td>\n",
       "      <td>476</td>\n",
       "      <td>536</td>\n",
       "      <td>622</td>\n",
       "      <td>523</td>\n",
       "      <td>445</td>\n",
       "      <td>481</td>\n",
       "      <td>490</td>\n",
       "      <td>481</td>\n",
       "      <td>548</td>\n",
       "      <td>NaN</td>\n",
       "    </tr>\n",
       "    <tr>\n",
       "      <th>4</th>\n",
       "      <td>486</td>\n",
       "      <td>490</td>\n",
       "      <td>480</td>\n",
       "      <td>471</td>\n",
       "      <td>520</td>\n",
       "      <td>481</td>\n",
       "      <td>437</td>\n",
       "      <td>476</td>\n",
       "      <td>484</td>\n",
       "      <td>482</td>\n",
       "      <td>...</td>\n",
       "      <td>473</td>\n",
       "      <td>474</td>\n",
       "      <td>491</td>\n",
       "      <td>516</td>\n",
       "      <td>515</td>\n",
       "      <td>475</td>\n",
       "      <td>497</td>\n",
       "      <td>453</td>\n",
       "      <td>497</td>\n",
       "      <td>NaN</td>\n",
       "    </tr>\n",
       "  </tbody>\n",
       "</table>\n",
       "<p>5 rows × 501 columns</p>\n",
       "</div>"
      ],
      "text/plain": [
       "   0    1    2    3    4    5    6    7    8    9   ...   491  492  493  494  \\\n",
       "0  483  460  559  477  462  491  499  475  495  479 ...   480  546  630  434   \n",
       "1  484  509  538  473  548  497  551  477  498  471 ...   482  493  442  440   \n",
       "2  476  529  558  477  505  486  545  477  473  480 ...   482  465  389  460   \n",
       "3  487  475  480  494  477  472  512  477  486  480 ...   476  536  622  523   \n",
       "4  486  490  480  471  520  481  437  476  484  482 ...   473  474  491  516   \n",
       "\n",
       "   495  496  497  498  499  500  \n",
       "0  497  479  503  465  494  NaN  \n",
       "1  587  475  483  509  455  NaN  \n",
       "2  459  484  476  564  521  NaN  \n",
       "3  445  481  490  481  548  NaN  \n",
       "4  515  475  497  453  497  NaN  \n",
       "\n",
       "[5 rows x 501 columns]"
      ]
     },
     "execution_count": 88,
     "metadata": {},
     "output_type": "execute_result"
    }
   ],
   "source": [
    "df_test_data.head()"
   ]
  },
  {
   "cell_type": "code",
   "execution_count": 89,
   "metadata": {},
   "outputs": [
    {
     "data": {
      "text/html": [
       "<div>\n",
       "<table border=\"1\" class=\"dataframe\">\n",
       "  <thead>\n",
       "    <tr style=\"text-align: right;\">\n",
       "      <th></th>\n",
       "      <th>0</th>\n",
       "      <th>1</th>\n",
       "      <th>2</th>\n",
       "      <th>3</th>\n",
       "      <th>4</th>\n",
       "      <th>5</th>\n",
       "      <th>6</th>\n",
       "      <th>7</th>\n",
       "      <th>8</th>\n",
       "      <th>9</th>\n",
       "      <th>...</th>\n",
       "      <th>491</th>\n",
       "      <th>492</th>\n",
       "      <th>493</th>\n",
       "      <th>494</th>\n",
       "      <th>495</th>\n",
       "      <th>496</th>\n",
       "      <th>497</th>\n",
       "      <th>498</th>\n",
       "      <th>499</th>\n",
       "      <th>500</th>\n",
       "    </tr>\n",
       "  </thead>\n",
       "  <tbody>\n",
       "    <tr>\n",
       "      <th>0</th>\n",
       "      <td>483</td>\n",
       "      <td>454</td>\n",
       "      <td>513</td>\n",
       "      <td>495</td>\n",
       "      <td>523</td>\n",
       "      <td>469</td>\n",
       "      <td>453</td>\n",
       "      <td>477</td>\n",
       "      <td>506</td>\n",
       "      <td>479</td>\n",
       "      <td>...</td>\n",
       "      <td>480</td>\n",
       "      <td>543</td>\n",
       "      <td>259</td>\n",
       "      <td>413</td>\n",
       "      <td>520</td>\n",
       "      <td>485</td>\n",
       "      <td>498</td>\n",
       "      <td>523</td>\n",
       "      <td>510</td>\n",
       "      <td>NaN</td>\n",
       "    </tr>\n",
       "    <tr>\n",
       "      <th>1</th>\n",
       "      <td>485</td>\n",
       "      <td>508</td>\n",
       "      <td>493</td>\n",
       "      <td>487</td>\n",
       "      <td>478</td>\n",
       "      <td>472</td>\n",
       "      <td>504</td>\n",
       "      <td>476</td>\n",
       "      <td>479</td>\n",
       "      <td>475</td>\n",
       "      <td>...</td>\n",
       "      <td>480</td>\n",
       "      <td>535</td>\n",
       "      <td>534</td>\n",
       "      <td>514</td>\n",
       "      <td>452</td>\n",
       "      <td>484</td>\n",
       "      <td>495</td>\n",
       "      <td>548</td>\n",
       "      <td>477</td>\n",
       "      <td>NaN</td>\n",
       "    </tr>\n",
       "    <tr>\n",
       "      <th>2</th>\n",
       "      <td>483</td>\n",
       "      <td>521</td>\n",
       "      <td>507</td>\n",
       "      <td>475</td>\n",
       "      <td>493</td>\n",
       "      <td>486</td>\n",
       "      <td>421</td>\n",
       "      <td>475</td>\n",
       "      <td>496</td>\n",
       "      <td>483</td>\n",
       "      <td>...</td>\n",
       "      <td>476</td>\n",
       "      <td>498</td>\n",
       "      <td>495</td>\n",
       "      <td>508</td>\n",
       "      <td>528</td>\n",
       "      <td>486</td>\n",
       "      <td>465</td>\n",
       "      <td>508</td>\n",
       "      <td>503</td>\n",
       "      <td>NaN</td>\n",
       "    </tr>\n",
       "    <tr>\n",
       "      <th>3</th>\n",
       "      <td>474</td>\n",
       "      <td>504</td>\n",
       "      <td>576</td>\n",
       "      <td>480</td>\n",
       "      <td>553</td>\n",
       "      <td>483</td>\n",
       "      <td>524</td>\n",
       "      <td>478</td>\n",
       "      <td>483</td>\n",
       "      <td>483</td>\n",
       "      <td>...</td>\n",
       "      <td>475</td>\n",
       "      <td>470</td>\n",
       "      <td>463</td>\n",
       "      <td>509</td>\n",
       "      <td>525</td>\n",
       "      <td>479</td>\n",
       "      <td>467</td>\n",
       "      <td>552</td>\n",
       "      <td>517</td>\n",
       "      <td>NaN</td>\n",
       "    </tr>\n",
       "    <tr>\n",
       "      <th>4</th>\n",
       "      <td>495</td>\n",
       "      <td>474</td>\n",
       "      <td>523</td>\n",
       "      <td>479</td>\n",
       "      <td>495</td>\n",
       "      <td>488</td>\n",
       "      <td>485</td>\n",
       "      <td>476</td>\n",
       "      <td>497</td>\n",
       "      <td>478</td>\n",
       "      <td>...</td>\n",
       "      <td>471</td>\n",
       "      <td>522</td>\n",
       "      <td>343</td>\n",
       "      <td>509</td>\n",
       "      <td>520</td>\n",
       "      <td>475</td>\n",
       "      <td>493</td>\n",
       "      <td>506</td>\n",
       "      <td>491</td>\n",
       "      <td>NaN</td>\n",
       "    </tr>\n",
       "  </tbody>\n",
       "</table>\n",
       "<p>5 rows × 501 columns</p>\n",
       "</div>"
      ],
      "text/plain": [
       "   0    1    2    3    4    5    6    7    8    9   ...   491  492  493  494  \\\n",
       "0  483  454  513  495  523  469  453  477  506  479 ...   480  543  259  413   \n",
       "1  485  508  493  487  478  472  504  476  479  475 ...   480  535  534  514   \n",
       "2  483  521  507  475  493  486  421  475  496  483 ...   476  498  495  508   \n",
       "3  474  504  576  480  553  483  524  478  483  483 ...   475  470  463  509   \n",
       "4  495  474  523  479  495  488  485  476  497  478 ...   471  522  343  509   \n",
       "\n",
       "   495  496  497  498  499  500  \n",
       "0  520  485  498  523  510  NaN  \n",
       "1  452  484  495  548  477  NaN  \n",
       "2  528  486  465  508  503  NaN  \n",
       "3  525  479  467  552  517  NaN  \n",
       "4  520  475  493  506  491  NaN  \n",
       "\n",
       "[5 rows x 501 columns]"
      ]
     },
     "execution_count": 89,
     "metadata": {},
     "output_type": "execute_result"
    }
   ],
   "source": [
    "df_valid_data.head()"
   ]
  },
  {
   "cell_type": "code",
   "execution_count": 90,
   "metadata": {},
   "outputs": [
    {
     "data": {
      "text/plain": [
       "((2000, 501), (1800, 501), (600, 501))"
      ]
     },
     "execution_count": 90,
     "metadata": {},
     "output_type": "execute_result"
    }
   ],
   "source": [
    "df_train_data.shape, df_test_data.shape, df_valid_data.shape"
   ]
  },
  {
   "cell_type": "code",
   "execution_count": 91,
   "metadata": {},
   "outputs": [
    {
     "data": {
      "text/plain": [
       "(array([ nan]), array([ nan]), array([ nan]))"
      ]
     },
     "execution_count": 91,
     "metadata": {},
     "output_type": "execute_result"
    }
   ],
   "source": [
    "df_train_data[500].unique(), df_test_data[500].unique(), df_valid_data[500].unique()"
   ]
  },
  {
   "cell_type": "code",
   "execution_count": 92,
   "metadata": {},
   "outputs": [
    {
     "data": {
      "text/plain": [
       "((2000, 500), (1800, 500), (600, 500))"
      ]
     },
     "execution_count": 92,
     "metadata": {},
     "output_type": "execute_result"
    }
   ],
   "source": [
    "df_train_data.drop(500, axis=1, inplace=True)\n",
    "df_test_data.drop(500, axis=1, inplace=True)\n",
    "df_valid_data.drop(500, axis=1, inplace=True)\n",
    "df_train_data.shape, df_test_data.shape, df_valid_data.shape"
   ]
  },
  {
   "cell_type": "code",
   "execution_count": 93,
   "metadata": {},
   "outputs": [
    {
     "data": {
      "text/plain": [
       "(488083511, 439209553, 146395833)"
      ]
     },
     "execution_count": 93,
     "metadata": {},
     "output_type": "execute_result"
    }
   ],
   "source": [
    "df_train_sum = np.array(df_train_data.sum(axis=0)).sum()\n",
    "df_test_sum = np.array(df_test_data.sum(axis=0)).sum()\n",
    "df_valid_sum = np.array(df_valid_data.sum(axis=0)).sum()\n",
    "df_train_sum, df_test_sum, df_valid_sum"
   ]
  },
  {
   "cell_type": "code",
   "execution_count": 94,
   "metadata": {},
   "outputs": [
    {
     "data": {
      "text/plain": [
       "1073688897"
      ]
     },
     "execution_count": 94,
     "metadata": {},
     "output_type": "execute_result"
    }
   ],
   "source": [
    "df_sum = df_train_sum + df_test_sum + df_valid_sum\n",
    "df_sum"
   ]
  },
  {
   "cell_type": "code",
   "execution_count": 95,
   "metadata": {
    "collapsed": true
   },
   "outputs": [],
   "source": [
    "df_train_data.to_pickle('pickled_data/madelon_train_data.p')\n",
    "df_test_data.to_pickle('pickled_data/madelon_test_data.p')\n",
    "df_valid_data.to_pickle('pickled_data/madelon_valid_data.p')"
   ]
  },
  {
   "cell_type": "markdown",
   "metadata": {},
   "source": [
    "## Import labels & EDA"
   ]
  },
  {
   "cell_type": "code",
   "execution_count": 96,
   "metadata": {
    "collapsed": true
   },
   "outputs": [],
   "source": [
    "df_train_labels = pd.read_csv('data/madelon_train.labels', sep=' ', header=None)\n",
    "df_valid_labels = pd.read_csv('data/madelon_valid.labels', sep=' ', header=None)"
   ]
  },
  {
   "cell_type": "code",
   "execution_count": 97,
   "metadata": {},
   "outputs": [
    {
     "data": {
      "image/png": "[encoded data removed]",
      "text/plain": [
       "<matplotlib.figure.Figure at 0x7fe3a4890668>"
      ]
     },
     "metadata": {},
     "output_type": "display_data"
    },
    {
     "data": {
      "image/png": "[encoded data removed]",
      "text/plain": [
       "<matplotlib.figure.Figure at 0x7fe3a4aea208>"
      ]
     },
     "metadata": {},
     "output_type": "display_data"
    }
   ],
   "source": [
    "plot_null_values(df_train_labels)\n",
    "plot_null_values(df_test_labels)"
   ]
  },
  {
   "cell_type": "code",
   "execution_count": 98,
   "metadata": {},
   "outputs": [
    {
     "data": {
      "text/html": [
       "<div>\n",
       "<table border=\"1\" class=\"dataframe\">\n",
       "  <thead>\n",
       "    <tr style=\"text-align: right;\">\n",
       "      <th></th>\n",
       "      <th>0</th>\n",
       "    </tr>\n",
       "  </thead>\n",
       "  <tbody>\n",
       "    <tr>\n",
       "      <th>0</th>\n",
       "      <td>-1</td>\n",
       "    </tr>\n",
       "    <tr>\n",
       "      <th>1</th>\n",
       "      <td>-1</td>\n",
       "    </tr>\n",
       "    <tr>\n",
       "      <th>2</th>\n",
       "      <td>-1</td>\n",
       "    </tr>\n",
       "    <tr>\n",
       "      <th>3</th>\n",
       "      <td>1</td>\n",
       "    </tr>\n",
       "    <tr>\n",
       "      <th>4</th>\n",
       "      <td>1</td>\n",
       "    </tr>\n",
       "  </tbody>\n",
       "</table>\n",
       "</div>"
      ],
      "text/plain": [
       "   0\n",
       "0 -1\n",
       "1 -1\n",
       "2 -1\n",
       "3  1\n",
       "4  1"
      ]
     },
     "execution_count": 98,
     "metadata": {},
     "output_type": "execute_result"
    }
   ],
   "source": [
    "df_train_labels.head()"
   ]
  },
  {
   "cell_type": "code",
   "execution_count": 99,
   "metadata": {},
   "outputs": [
    {
     "data": {
      "text/plain": [
       "(2000, 1)"
      ]
     },
     "execution_count": 99,
     "metadata": {},
     "output_type": "execute_result"
    }
   ],
   "source": [
    "df_train_labels.shape"
   ]
  },
  {
   "cell_type": "code",
   "execution_count": 100,
   "metadata": {},
   "outputs": [
    {
     "data": {
      "text/plain": [
       "array([-1,  1])"
      ]
     },
     "execution_count": 100,
     "metadata": {},
     "output_type": "execute_result"
    }
   ],
   "source": [
    "df_train_labels[0].unique()"
   ]
  },
  {
   "cell_type": "code",
   "execution_count": 101,
   "metadata": {},
   "outputs": [
    {
     "data": {
      "text/plain": [
       "0"
      ]
     },
     "execution_count": 101,
     "metadata": {},
     "output_type": "execute_result"
    }
   ],
   "source": [
    "df_train_labels[0].sum()"
   ]
  },
  {
   "cell_type": "code",
   "execution_count": 102,
   "metadata": {},
   "outputs": [
    {
     "data": {
      "text/html": [
       "<div>\n",
       "<table border=\"1\" class=\"dataframe\">\n",
       "  <thead>\n",
       "    <tr style=\"text-align: right;\">\n",
       "      <th></th>\n",
       "      <th>0</th>\n",
       "    </tr>\n",
       "  </thead>\n",
       "  <tbody>\n",
       "    <tr>\n",
       "      <th>0</th>\n",
       "      <td>-1</td>\n",
       "    </tr>\n",
       "    <tr>\n",
       "      <th>1</th>\n",
       "      <td>-1</td>\n",
       "    </tr>\n",
       "    <tr>\n",
       "      <th>2</th>\n",
       "      <td>-1</td>\n",
       "    </tr>\n",
       "    <tr>\n",
       "      <th>3</th>\n",
       "      <td>1</td>\n",
       "    </tr>\n",
       "    <tr>\n",
       "      <th>4</th>\n",
       "      <td>-1</td>\n",
       "    </tr>\n",
       "  </tbody>\n",
       "</table>\n",
       "</div>"
      ],
      "text/plain": [
       "   0\n",
       "0 -1\n",
       "1 -1\n",
       "2 -1\n",
       "3  1\n",
       "4 -1"
      ]
     },
     "execution_count": 102,
     "metadata": {},
     "output_type": "execute_result"
    }
   ],
   "source": [
    "df_valid_labels.head()"
   ]
  },
  {
   "cell_type": "code",
   "execution_count": 103,
   "metadata": {},
   "outputs": [
    {
     "data": {
      "text/plain": [
       "(600, 1)"
      ]
     },
     "execution_count": 103,
     "metadata": {},
     "output_type": "execute_result"
    }
   ],
   "source": [
    "df_valid_labels.shape"
   ]
  },
  {
   "cell_type": "code",
   "execution_count": 104,
   "metadata": {},
   "outputs": [
    {
     "data": {
      "text/plain": [
       "array([-1,  1])"
      ]
     },
     "execution_count": 104,
     "metadata": {},
     "output_type": "execute_result"
    }
   ],
   "source": [
    "df_valid_labels[0].unique()"
   ]
  },
  {
   "cell_type": "code",
   "execution_count": 105,
   "metadata": {},
   "outputs": [
    {
     "data": {
      "text/plain": [
       "0"
      ]
     },
     "execution_count": 105,
     "metadata": {},
     "output_type": "execute_result"
    }
   ],
   "source": [
    "df_valid_labels[0].sum()"
   ]
  },
  {
   "cell_type": "code",
   "execution_count": 106,
   "metadata": {
    "collapsed": true
   },
   "outputs": [],
   "source": [
    "df_train_labels.to_pickle('pickled_data/madelon_train_labels.p')\n",
    "df_valid_labels.to_pickle('pickled_data/madelon_valid_labels.p')"
   ]
  },
  {
   "cell_type": "markdown",
   "metadata": {},
   "source": [
    "## Combine data and labels"
   ]
  },
  {
   "cell_type": "code",
   "execution_count": 107,
   "metadata": {
    "collapsed": true
   },
   "outputs": [],
   "source": [
    "df_data = pd.concat([df_train_data, df_valid_data])"
   ]
  },
  {
   "cell_type": "code",
   "execution_count": 108,
   "metadata": {
    "collapsed": true
   },
   "outputs": [],
   "source": [
    "df_data.to_pickle('pickled_data/madelon_data.p')"
   ]
  },
  {
   "cell_type": "code",
   "execution_count": 109,
   "metadata": {
    "collapsed": true
   },
   "outputs": [],
   "source": [
    "df_labels = pd.concat([df_train_labels, df_valid_labels])"
   ]
  },
  {
   "cell_type": "code",
   "execution_count": 110,
   "metadata": {
    "collapsed": true
   },
   "outputs": [],
   "source": [
    "df_labels.to_pickle('pickled_data/madelon_labels.p')"
   ]
  },
  {
   "cell_type": "markdown",
   "metadata": {},
   "source": [
    "## Select sample"
   ]
  },
  {
   "cell_type": "code",
   "execution_count": 111,
   "metadata": {},
   "outputs": [
    {
     "data": {
      "text/plain": [
       "(2600, 500)"
      ]
     },
     "execution_count": 111,
     "metadata": {},
     "output_type": "execute_result"
    }
   ],
   "source": [
    "df_data.shape"
   ]
  },
  {
   "cell_type": "code",
   "execution_count": 112,
   "metadata": {
    "collapsed": true
   },
   "outputs": [],
   "source": [
    "df_sample_10_1 = df_data.sample(260)"
   ]
  },
  {
   "cell_type": "code",
   "execution_count": 113,
   "metadata": {},
   "outputs": [
    {
     "data": {
      "text/plain": [
       "(260, 500)"
      ]
     },
     "execution_count": 113,
     "metadata": {},
     "output_type": "execute_result"
    }
   ],
   "source": [
    "df_sample_10_1.shape"
   ]
  },
  {
   "cell_type": "code",
   "execution_count": 114,
   "metadata": {},
   "outputs": [
    {
     "data": {
      "text/html": [
       "<div>\n",
       "<table border=\"1\" class=\"dataframe\">\n",
       "  <thead>\n",
       "    <tr style=\"text-align: right;\">\n",
       "      <th></th>\n",
       "      <th>0</th>\n",
       "      <th>1</th>\n",
       "      <th>2</th>\n",
       "      <th>3</th>\n",
       "      <th>4</th>\n",
       "      <th>5</th>\n",
       "      <th>6</th>\n",
       "      <th>7</th>\n",
       "      <th>8</th>\n",
       "      <th>9</th>\n",
       "      <th>...</th>\n",
       "      <th>490</th>\n",
       "      <th>491</th>\n",
       "      <th>492</th>\n",
       "      <th>493</th>\n",
       "      <th>494</th>\n",
       "      <th>495</th>\n",
       "      <th>496</th>\n",
       "      <th>497</th>\n",
       "      <th>498</th>\n",
       "      <th>499</th>\n",
       "    </tr>\n",
       "  </thead>\n",
       "  <tbody>\n",
       "    <tr>\n",
       "      <th>1593</th>\n",
       "      <td>476</td>\n",
       "      <td>450</td>\n",
       "      <td>555</td>\n",
       "      <td>468</td>\n",
       "      <td>470</td>\n",
       "      <td>487</td>\n",
       "      <td>506</td>\n",
       "      <td>478</td>\n",
       "      <td>509</td>\n",
       "      <td>477</td>\n",
       "      <td>...</td>\n",
       "      <td>479</td>\n",
       "      <td>479</td>\n",
       "      <td>511</td>\n",
       "      <td>655</td>\n",
       "      <td>497</td>\n",
       "      <td>541</td>\n",
       "      <td>475</td>\n",
       "      <td>471</td>\n",
       "      <td>488</td>\n",
       "      <td>484</td>\n",
       "    </tr>\n",
       "    <tr>\n",
       "      <th>196</th>\n",
       "      <td>471</td>\n",
       "      <td>503</td>\n",
       "      <td>545</td>\n",
       "      <td>492</td>\n",
       "      <td>550</td>\n",
       "      <td>485</td>\n",
       "      <td>495</td>\n",
       "      <td>475</td>\n",
       "      <td>469</td>\n",
       "      <td>470</td>\n",
       "      <td>...</td>\n",
       "      <td>479</td>\n",
       "      <td>482</td>\n",
       "      <td>474</td>\n",
       "      <td>566</td>\n",
       "      <td>483</td>\n",
       "      <td>587</td>\n",
       "      <td>481</td>\n",
       "      <td>476</td>\n",
       "      <td>540</td>\n",
       "      <td>499</td>\n",
       "    </tr>\n",
       "    <tr>\n",
       "      <th>239</th>\n",
       "      <td>485</td>\n",
       "      <td>492</td>\n",
       "      <td>456</td>\n",
       "      <td>478</td>\n",
       "      <td>481</td>\n",
       "      <td>479</td>\n",
       "      <td>443</td>\n",
       "      <td>475</td>\n",
       "      <td>471</td>\n",
       "      <td>474</td>\n",
       "      <td>...</td>\n",
       "      <td>499</td>\n",
       "      <td>479</td>\n",
       "      <td>501</td>\n",
       "      <td>692</td>\n",
       "      <td>446</td>\n",
       "      <td>551</td>\n",
       "      <td>481</td>\n",
       "      <td>480</td>\n",
       "      <td>516</td>\n",
       "      <td>524</td>\n",
       "    </tr>\n",
       "    <tr>\n",
       "      <th>126</th>\n",
       "      <td>482</td>\n",
       "      <td>482</td>\n",
       "      <td>515</td>\n",
       "      <td>486</td>\n",
       "      <td>522</td>\n",
       "      <td>477</td>\n",
       "      <td>509</td>\n",
       "      <td>477</td>\n",
       "      <td>480</td>\n",
       "      <td>480</td>\n",
       "      <td>...</td>\n",
       "      <td>513</td>\n",
       "      <td>481</td>\n",
       "      <td>508</td>\n",
       "      <td>386</td>\n",
       "      <td>483</td>\n",
       "      <td>517</td>\n",
       "      <td>468</td>\n",
       "      <td>486</td>\n",
       "      <td>506</td>\n",
       "      <td>504</td>\n",
       "    </tr>\n",
       "    <tr>\n",
       "      <th>1587</th>\n",
       "      <td>485</td>\n",
       "      <td>448</td>\n",
       "      <td>568</td>\n",
       "      <td>476</td>\n",
       "      <td>457</td>\n",
       "      <td>481</td>\n",
       "      <td>526</td>\n",
       "      <td>474</td>\n",
       "      <td>493</td>\n",
       "      <td>469</td>\n",
       "      <td>...</td>\n",
       "      <td>487</td>\n",
       "      <td>480</td>\n",
       "      <td>470</td>\n",
       "      <td>538</td>\n",
       "      <td>439</td>\n",
       "      <td>497</td>\n",
       "      <td>467</td>\n",
       "      <td>521</td>\n",
       "      <td>520</td>\n",
       "      <td>521</td>\n",
       "    </tr>\n",
       "  </tbody>\n",
       "</table>\n",
       "<p>5 rows × 500 columns</p>\n",
       "</div>"
      ],
      "text/plain": [
       "      0    1    2    3    4    5    6    7    8    9   ...   490  491  492  \\\n",
       "1593  476  450  555  468  470  487  506  478  509  477 ...   479  479  511   \n",
       "196   471  503  545  492  550  485  495  475  469  470 ...   479  482  474   \n",
       "239   485  492  456  478  481  479  443  475  471  474 ...   499  479  501   \n",
       "126   482  482  515  486  522  477  509  477  480  480 ...   513  481  508   \n",
       "1587  485  448  568  476  457  481  526  474  493  469 ...   487  480  470   \n",
       "\n",
       "      493  494  495  496  497  498  499  \n",
       "1593  655  497  541  475  471  488  484  \n",
       "196   566  483  587  481  476  540  499  \n",
       "239   692  446  551  481  480  516  524  \n",
       "126   386  483  517  468  486  506  504  \n",
       "1587  538  439  497  467  521  520  521  \n",
       "\n",
       "[5 rows x 500 columns]"
      ]
     },
     "execution_count": 114,
     "metadata": {},
     "output_type": "execute_result"
    }
   ],
   "source": [
    "df_sample_10_1.head()"
   ]
  },
  {
   "cell_type": "code",
   "execution_count": 116,
   "metadata": {
    "collapsed": true
   },
   "outputs": [],
   "source": [
    "#df_sample_10_1.to_pickle('pickled_data/df_sample_data_10_1.p')"
   ]
  },
  {
   "cell_type": "code",
   "execution_count": 119,
   "metadata": {},
   "outputs": [
    {
     "data": {
      "text/plain": [
       "array([1593,  196,  239,  126, 1587, 1934, 1662,  486,  790,   78,  350,\n",
       "       1322,  170,   44,   56,  175, 1580, 1718, 1453, 1134,   71,  410,\n",
       "         53, 1688, 1972,  528,   73, 1178, 1299, 1117,  527,  113,  789,\n",
       "       1339, 1283, 1452, 1803,  173,  208, 1717, 1298,  188,  211, 1025,\n",
       "         75, 1550, 1334,  518, 1954,  387,  450,  807,  888,  162, 1767,\n",
       "        507,  680,   70,  424,  194,   73, 1313,  407,  500, 1563, 1387,\n",
       "       1477,  347, 1149,  515, 1616, 1057,  764, 1103, 1677, 1448,   83,\n",
       "        668, 1621, 1356, 1207,  471, 1270, 1302,  535, 1547,  809, 1360,\n",
       "       1269, 1330,  654,  834,  890, 1236,  318, 1671,   40,  422,  602,\n",
       "       1338, 1800,  354,   43, 1868,  931, 1393,  118,  618,  782,  678,\n",
       "        962,   90, 1776, 1989, 1436, 1594,   33, 1569, 1627, 1730, 1286,\n",
       "        414,  178, 1193,  321, 1444,  365, 1701,  829, 1922,  367,  862,\n",
       "        329,   84, 1956,  787, 1391, 1904,  362,  655,  937, 1867, 1228,\n",
       "        565, 1900,   60,  836,  532, 1834, 1386, 1552,   87,   93,  204,\n",
       "       1098,  564,  282,  134,  810,   96,  679, 1724,  450,  869, 1700,\n",
       "       1033, 1743, 1273,  522,  461,  435,  414,  761, 1133, 1883, 1359,\n",
       "        221, 1050,  395,  586, 1692,  998,  819,  383,   91, 1599,  423,\n",
       "        651,  218, 1041, 1032, 1572,  446,  281,  393,  544,  104,  296,\n",
       "       1756,  649,  168, 1225, 1083, 1061, 1398, 1993, 1689,  605,  210,\n",
       "       1084,  485,   86, 1968,  889,  233,  111, 1612,  594, 1537,  929,\n",
       "        458,  254,   51,  246,  110, 1681, 1366,  226, 1405,  183, 1195,\n",
       "        647,  341,  539,  310,  238,  114,  212, 1670,  748, 1487, 1711,\n",
       "        244,  430, 1068, 1192,  670,  705,  436, 1071, 1399,  218,  431,\n",
       "        226,  550,  298,  220, 1847,  152, 1825])"
      ]
     },
     "execution_count": 119,
     "metadata": {},
     "output_type": "execute_result"
    }
   ],
   "source": [
    "df_sample_10_1.index.values"
   ]
  },
  {
   "cell_type": "code",
   "execution_count": 122,
   "metadata": {
    "collapsed": true
   },
   "outputs": [],
   "source": [
    "df_sample_labels_10_1 = df_labels.iloc[df_sample_10_1.index.values]"
   ]
  },
  {
   "cell_type": "code",
   "execution_count": 123,
   "metadata": {},
   "outputs": [
    {
     "data": {
      "text/plain": [
       "(260, 1)"
      ]
     },
     "execution_count": 123,
     "metadata": {},
     "output_type": "execute_result"
    }
   ],
   "source": [
    "df_sample_labels_10_1.shape"
   ]
  },
  {
   "cell_type": "code",
   "execution_count": 124,
   "metadata": {
    "collapsed": true
   },
   "outputs": [],
   "source": [
    "#df_sample_labels_10_1.to_pickle('pickled_data/df_sample_labels_10_1.p')"
   ]
  }
 ],
 "metadata": {
  "kernelspec": {
   "display_name": "Python 3",
   "language": "python",
   "name": "python3"
  },
  "language_info": {
   "codemirror_mode": {
    "name": "ipython",
    "version": 3
   },
   "file_extension": ".py",
   "mimetype": "text/x-python",
   "name": "python",
   "nbconvert_exporter": "python",
   "pygments_lexer": "ipython3",
   "version": "3.6.2"
  }
 },
 "nbformat": 4,
 "nbformat_minor": 2
}
