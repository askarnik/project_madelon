{
 "cells": [
  {
   "cell_type": "code",
   "execution_count": 108,
   "metadata": {
    "collapsed": true
   },
   "outputs": [],
   "source": [
    "import pandas as pd\n",
    "import numpy as np\n",
    "import matplotlib.pyplot as plt\n",
    "from sklearn.pipeline import Pipeline\n",
    "from sklearn.preprocessing import StandardScaler, MinMaxScaler, PolynomialFeatures\n",
    "from sklearn.feature_selection import SelectKBest, SelectFromModel, RFE\n",
    "from sklearn.model_selection import GridSearchCV\n",
    "from sklearn.linear_model import LogisticRegression\n",
    "from sklearn.tree import DecisionTreeClassifier\n",
    "from sklearn.neighbors import KNeighborsClassifier\n",
    "from sklearn.svm import SVC\n",
    "from sklearn.metrics import roc_auc_score, make_scorer\n",
    "\n",
    "np.random.seed(42)"
   ]
  },
  {
   "cell_type": "code",
   "execution_count": 100,
   "metadata": {
    "collapsed": true
   },
   "outputs": [],
   "source": [
    "X_train = pd.read_pickle('pickled_data/df_sample_data_10_1.p')\n",
    "y_train = pd.read_pickle('pickled_data/df_sample_labels_10_1.p')\n",
    "y_train = y_train.values.ravel()\n",
    "X_test = pd.read_pickle('pickled_data/madelon_test_data.p')"
   ]
  },
  {
   "cell_type": "code",
   "execution_count": 101,
   "metadata": {
    "collapsed": true
   },
   "outputs": [],
   "source": [
    "\n",
    "# sfm_pipe = Pipeline()\n",
    "# rfe_pipe = Pipeline()\n",
    "# sp_pipe = Pipeline()"
   ]
  },
  {
   "cell_type": "markdown",
   "metadata": {},
   "source": [
    "## Feature Selection - SelectKBest"
   ]
  },
  {
   "cell_type": "code",
   "execution_count": 102,
   "metadata": {
    "collapsed": true
   },
   "outputs": [],
   "source": [
    "skb_pipe = Pipeline([('scaler', StandardScaler()), \n",
    "                     ('skb', SelectKBest())\n",
    "                    ])"
   ]
  },
  {
   "cell_type": "code",
   "execution_count": 103,
   "metadata": {},
   "outputs": [
    {
     "data": {
      "text/plain": [
       "Pipeline(steps=[('scaler', StandardScaler(copy=True, with_mean=True, with_std=True)), ('skb', SelectKBest(k=10, score_func=<function f_classif at 0x7f257e055d08>))])"
      ]
     },
     "execution_count": 103,
     "metadata": {},
     "output_type": "execute_result"
    }
   ],
   "source": [
    "skb_pipe.fit(X_train, y_train)"
   ]
  },
  {
   "cell_type": "code",
   "execution_count": 104,
   "metadata": {},
   "outputs": [
    {
     "data": {
      "text/plain": [
       "array([  4,  26,  30,  36,  64,  88, 121, 132, 157, 163, 175, 198, 207,\n",
       "       226, 230, 241, 245, 253, 269, 282, 289, 336, 338, 352, 383, 442,\n",
       "       443, 446, 452, 453, 456, 472, 475, 484, 486, 489, 494])"
      ]
     },
     "execution_count": 104,
     "metadata": {},
     "output_type": "execute_result"
    }
   ],
   "source": [
    "skb_feats = np.where(skb_pipe.named_steps['skb'].pvalues_ < 0.05)[0]\n",
    "skb_feats"
   ]
  },
  {
   "cell_type": "markdown",
   "metadata": {},
   "source": [
    "## Feature Selection - SelectFromModel"
   ]
  },
  {
   "cell_type": "code",
   "execution_count": 126,
   "metadata": {},
   "outputs": [],
   "source": [
    "sfm_pipe = Pipeline([('scaler', StandardScaler()),\n",
    "                     ('select from logistic regression', SelectFromModel(estimator=LogisticRegression(C=1e9), threshold='mean'))\n",
    "                    ])"
   ]
  },
  {
   "cell_type": "code",
   "execution_count": 127,
   "metadata": {},
   "outputs": [
    {
     "data": {
      "text/plain": [
       "Pipeline(steps=[('scaler', StandardScaler(copy=True, with_mean=True, with_std=True)), ('select from logistic regression', SelectFromModel(estimator=LogisticRegression(C=1000000000.0, class_weight=None, dual=False,\n",
       "          fit_intercept=True, intercept_scaling=1, max_iter=100,\n",
       "          multi_class='ovr', n_jobs=1, penalty='l2', random_state=None,\n",
       "          solver='liblinear', tol=0.0001, verbose=0, warm_start=False),\n",
       "        prefit=False, threshold='mean'))])"
      ]
     },
     "execution_count": 127,
     "metadata": {},
     "output_type": "execute_result"
    }
   ],
   "source": [
    "sfm_pipe.fit(X_train, y_train)"
   ]
  },
  {
   "cell_type": "code",
   "execution_count": 130,
   "metadata": {},
   "outputs": [
    {
     "data": {
      "text/plain": [
       "array([  3,   4,   5,   9,  10,  12,  16,  17,  18,  26,  27,  29,  30,\n",
       "        33,  34,  35,  36,  38,  40,  42,  45,  46,  52,  54,  58,  60,\n",
       "        61,  64,  67,  69,  71,  73,  78,  80,  82,  85,  88,  89,  90,\n",
       "        93,  96, 100, 102, 111, 113, 115, 116, 117, 118, 119, 120, 121,\n",
       "       124, 130, 132, 136, 137, 139, 140, 143, 145, 149, 154, 157, 158,\n",
       "       163, 167, 174, 175, 177, 178, 181, 183, 189, 192, 198, 201, 203,\n",
       "       205, 207, 210, 213, 214, 217, 219, 220, 221, 222, 223, 226, 227,\n",
       "       228, 230, 231, 236, 238, 239, 240, 241, 242, 243, 245, 250, 253,\n",
       "       257, 259, 260, 262, 263, 264, 266, 267, 269, 270, 273, 274, 277,\n",
       "       278, 279, 280, 285, 286, 288, 289, 290, 295, 297, 299, 300, 302,\n",
       "       303, 310, 313, 317, 318, 319, 320, 327, 328, 330, 331, 334, 336,\n",
       "       338, 340, 347, 348, 349, 350, 352, 355, 356, 357, 359, 360, 362,\n",
       "       369, 370, 372, 373, 374, 377, 378, 379, 382, 383, 384, 387, 389,\n",
       "       392, 395, 398, 399, 400, 402, 412, 421, 424, 425, 427, 429, 433,\n",
       "       434, 436, 439, 441, 443, 444, 445, 446, 452, 453, 456, 459, 462,\n",
       "       466, 467, 475, 477, 478, 480, 481, 484, 486, 489, 490, 494, 496,\n",
       "       497, 498, 499])"
      ]
     },
     "execution_count": 130,
     "metadata": {},
     "output_type": "execute_result"
    }
   ],
   "source": [
    "sfm_feats = np.where(sfm_pipe.named_steps['select from logistic regression'].get_support())[0]\n",
    "sfm_feats"
   ]
  },
  {
   "cell_type": "code",
   "execution_count": null,
   "metadata": {
    "collapsed": true
   },
   "outputs": [],
   "source": []
  }
 ],
 "metadata": {
  "kernelspec": {
   "display_name": "Python 3",
   "language": "python",
   "name": "python3"
  },
  "language_info": {
   "codemirror_mode": {
    "name": "ipython",
    "version": 3
   },
   "file_extension": ".py",
   "mimetype": "text/x-python",
   "name": "python",
   "nbconvert_exporter": "python",
   "pygments_lexer": "ipython3",
   "version": "3.6.2"
  }
 },
 "nbformat": 4,
 "nbformat_minor": 2
}
