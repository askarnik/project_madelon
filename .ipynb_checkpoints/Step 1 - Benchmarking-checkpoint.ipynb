{
 "cells": [
  {
   "cell_type": "code",
   "execution_count": 47,
   "metadata": {
    "collapsed": true
   },
   "outputs": [],
   "source": [
    "import pandas as pd\n",
    "import numpy as np\n",
    "import matplotlib.pyplot as plt\n",
    "from sklearn.pipeline import Pipeline\n",
    "from sklearn.preprocessing import StandardScaler, MinMaxScaler, PolynomialFeatures\n",
    "from sklearn.model_selection import train_test_split\n",
    "from sklearn.linear_model import LogisticRegression\n",
    "from sklearn.tree import DecisionTreeClassifier\n",
    "from sklearn.neighbors import KNeighborsClassifier\n",
    "from sklearn.svm import SVC\n",
    "\n",
    "np.random.seed(42)"
   ]
  },
  {
   "cell_type": "code",
   "execution_count": 48,
   "metadata": {
    "collapsed": true
   },
   "outputs": [],
   "source": [
    "X_train = pd.read_pickle('pickled_data/df_sample_data_10_1.p')\n",
    "y_train = pd.read_pickle('pickled_data/df_sample_labels_10_1.p')\n",
    "X_test = pd.read_pickle('pickled_data/madelon_test_data.p')"
   ]
  },
  {
   "cell_type": "code",
   "execution_count": 49,
   "metadata": {
    "collapsed": true
   },
   "outputs": [],
   "source": [
    "# X_train, X_test, y_train, y_test = train_test_split(df_sample_data_10_1, df_sample_labels_10_1, random_state = 42)\n",
    "\n",
    "# X_train.to_pickle('pickled_data/sample_1/X_train.p')\n",
    "# X_test.to_pickle('pickled_data/sample_1/X_test.p')\n",
    "# y_train.to_pickle('pickled_data/sample_1/y_train.p')\n",
    "# y_test.to_pickle('pickled_data/sample_1/y_test.p')"
   ]
  },
  {
   "cell_type": "code",
   "execution_count": 50,
   "metadata": {
    "collapsed": true
   },
   "outputs": [],
   "source": [
    "logreg_pipe = Pipeline([('scaler', StandardScaler()), ('logreg', LogisticRegression(C=1e9, random_state=42))])\n",
    "dtc_pipe = Pipeline([('scaler', StandardScaler()), ('dtc', DecisionTreeClassifier(random_state=42))])\n",
    "knc_pipe = Pipeline([('scaler', StandardScaler()), ('knc', KNeighborsClassifier(n_neighbors=10))])\n",
    "svc_pipe = Pipeline([('scaler', StandardScaler()), ('svc', SVC(C=1e9, random_state=42))])"
   ]
  },
  {
   "cell_type": "code",
   "execution_count": 51,
   "metadata": {
    "collapsed": true
   },
   "outputs": [],
   "source": [
    "dict_benchmark = {'model':[], 'train_score':[], 'test_score':[]}"
   ]
  },
  {
   "cell_type": "code",
   "execution_count": 53,
   "metadata": {},
   "outputs": [
    {
     "name": "stderr",
     "output_type": "stream",
     "text": [
      "/opt/conda/lib/python3.6/site-packages/sklearn/utils/validation.py:526: DataConversionWarning: A column-vector y was passed when a 1d array was expected. Please change the shape of y to (n_samples, ), for example using ravel().\n",
      "  y = column_or_1d(y, warn=True)\n",
      "/opt/conda/lib/python3.6/site-packages/sklearn/utils/deprecation.py:70: DeprecationWarning: Function transform is deprecated; Support to use estimators as feature selectors will be removed in version 0.19. Use SelectFromModel instead.\n",
      "  warnings.warn(msg, category=DeprecationWarning)\n",
      "/opt/conda/lib/python3.6/site-packages/sklearn/utils/deprecation.py:70: DeprecationWarning: Function transform is deprecated; Support to use estimators as feature selectors will be removed in version 0.19. Use SelectFromModel instead.\n",
      "  warnings.warn(msg, category=DeprecationWarning)\n",
      "/opt/conda/lib/python3.6/site-packages/sklearn/pipeline.py:270: DataConversionWarning: A column-vector y was passed when a 1d array was expected. Please change the shape of y to (n_samples, ), for example using ravel().\n",
      "  self._final_estimator.fit(Xt, y, **fit_params)\n",
      "/opt/conda/lib/python3.6/site-packages/sklearn/utils/validation.py:526: DataConversionWarning: A column-vector y was passed when a 1d array was expected. Please change the shape of y to (n_samples, ), for example using ravel().\n",
      "  y = column_or_1d(y, warn=True)\n"
     ]
    },
    {
     "data": {
      "text/html": [
       "<div>\n",
       "<table border=\"1\" class=\"dataframe\">\n",
       "  <thead>\n",
       "    <tr style=\"text-align: right;\">\n",
       "      <th></th>\n",
       "      <th>model</th>\n",
       "      <th>test_score</th>\n",
       "      <th>train_score</th>\n",
       "    </tr>\n",
       "  </thead>\n",
       "  <tbody>\n",
       "    <tr>\n",
       "      <th>0</th>\n",
       "      <td>logistic regression</td>\n",
       "      <td>1.0</td>\n",
       "      <td>1.000000</td>\n",
       "    </tr>\n",
       "    <tr>\n",
       "      <th>1</th>\n",
       "      <td>decision tree classifier</td>\n",
       "      <td>1.0</td>\n",
       "      <td>1.000000</td>\n",
       "    </tr>\n",
       "    <tr>\n",
       "      <th>2</th>\n",
       "      <td>kneighbors classifier</td>\n",
       "      <td>1.0</td>\n",
       "      <td>0.630769</td>\n",
       "    </tr>\n",
       "    <tr>\n",
       "      <th>3</th>\n",
       "      <td>support vector classifier</td>\n",
       "      <td>1.0</td>\n",
       "      <td>1.000000</td>\n",
       "    </tr>\n",
       "  </tbody>\n",
       "</table>\n",
       "</div>"
      ],
      "text/plain": [
       "                       model  test_score  train_score\n",
       "0        logistic regression         1.0     1.000000\n",
       "1   decision tree classifier         1.0     1.000000\n",
       "2      kneighbors classifier         1.0     0.630769\n",
       "3  support vector classifier         1.0     1.000000"
      ]
     },
     "execution_count": 53,
     "metadata": {},
     "output_type": "execute_result"
    }
   ],
   "source": [
    "for model_name, my_pipe in [('logistic regression', logreg_pipe), ('decision tree classifier', dtc_pipe), \\\n",
    "                            ('kneighbors classifier', knc_pipe), ('support vector classifier', svc_pipe)]:\n",
    "    \n",
    "    if model_name == 'logistic regression' or model_name == 'decision tree classifier':\n",
    "        my_pipe.fit_transform(X_train, y_train)\n",
    "    else:\n",
    "         my_pipe.fit(X_train, y_train)\n",
    "    \n",
    "    train_score = my_pipe.score(X_train, y_train)\n",
    "    y_test = my_pipe.predict(X_test)\n",
    "    test_score = my_pipe.score(X_test, y_test)\n",
    "    dict_benchmark['model'].append(model_name)\n",
    "    dict_benchmark['train_score'].append(train_score)\n",
    "    dict_benchmark['test_score'].append(test_score)\n",
    "\n",
    "pd.DataFrame(dict_benchmark)"
   ]
  },
  {
   "cell_type": "code",
   "execution_count": null,
   "metadata": {
    "collapsed": true
   },
   "outputs": [],
   "source": []
  }
 ],
 "metadata": {
  "kernelspec": {
   "display_name": "Python 3",
   "language": "python",
   "name": "python3"
  },
  "language_info": {
   "codemirror_mode": {
    "name": "ipython",
    "version": 3
   },
   "file_extension": ".py",
   "mimetype": "text/x-python",
   "name": "python",
   "nbconvert_exporter": "python",
   "pygments_lexer": "ipython3",
   "version": "3.6.2"
  }
 },
 "nbformat": 4,
 "nbformat_minor": 2
}
